{
 "cells": [
  {
   "cell_type": "markdown",
   "metadata": {},
   "source": [
    "# 💾 INSTALLATIONS SERVER"
   ]
  },
  {
   "cell_type": "markdown",
   "metadata": {},
   "source": [
    "## 💿 REQUIRES"
   ]
  },
  {
   "cell_type": "code",
   "execution_count": 1,
   "metadata": {},
   "outputs": [
    {
     "name": "stdout",
     "output_type": "stream",
     "text": [
      "⚙️ Importations requises\n",
      "✅ SUBPROCESS importé\n",
      "✅ JSON importé\n",
      "⏏️\n"
     ]
    }
   ],
   "source": [
    "#! REQUIRES\n",
    "p = f\"⚙️ Importations requises\"\n",
    "print(p)\n",
    "\n",
    "#! subrocess\n",
    "#? il est indispensable d'importer subprocess afin de tester si les bibliothèques sont installées dans le système\n",
    "try:\n",
    "    # importation de subprocess\n",
    "    import subprocess\n",
    "\n",
    "    # todo>> installé\n",
    "    p = f\"✅ SUBPROCESS importé\"\n",
    "    print(p)\n",
    "\n",
    "except Exception as e:\n",
    "    # todo>> erreur\n",
    "    p = f\"📛 ERREUR\"\n",
    "    p = f\"{p} : {e}\"\n",
    "    print(p)\n",
    "    \n",
    "    # todo>> echec\n",
    "    p = f\"❌ echec de l'importation de subprocess\"\n",
    "    print(p)\n",
    "\n",
    "#! json\n",
    "#? json nous permet de charger des fichiers JSON\n",
    "try:\n",
    "    # importation de json\n",
    "    import json\n",
    "\n",
    "    # todo>> installé\n",
    "    p = f\"✅ JSON importé\"\n",
    "    print(p)\n",
    "\n",
    "except Exception as e:\n",
    "    # todo>> erreur\n",
    "    p = f\"📛 ERREUR\"\n",
    "    p = f\"{p} : {e}\"\n",
    "    print(p)\n",
    "    \n",
    "    # todo>> echec\n",
    "    p = f\"❌ echec de l'importation de json\"\n",
    "    print(p)\n",
    "\n",
    "# end\n",
    "p = f\"⏏️\"\n",
    "print(p)"
   ]
  },
  {
   "cell_type": "markdown",
   "metadata": {},
   "source": [
    "## 📑 PACKAGES"
   ]
  },
  {
   "cell_type": "code",
   "execution_count": 2,
   "metadata": {},
   "outputs": [
    {
     "name": "stdout",
     "output_type": "stream",
     "text": [
      "✅ Fichier 'package.json' chargé\n",
      "✳️ INFOS SERVEUR\n",
      "🔻 DEPENDANCES SERVER :\n",
      "1 . color : 4.2.3\n",
      "2 . colors : 1.4.0\n",
      "3 . express : 4.18.2\n",
      "4 . mysql : 2.18.1\n",
      "5 . mysql2 : 3.6.5\n",
      "6 . react : 18.2.0\n",
      "7 . react-dom : 18.2.0\n",
      "8 . react-helmet : 6.1.0\n",
      "9 . react-helmet-async : 2.0.4\n",
      "10 . react-router-dom : 6.21.1\n",
      "11 . react-spring : 9.7.3\n",
      "🔺\n",
      "🔻 DEPENDANCES DEV SERVER :\n",
      "1 . @types/react : 18.2.43\n",
      "2 . @types/react-dom : 18.2.17\n",
      "3 . @vitejs/plugin-react : 4.2.1\n",
      "4 . eslint : 8.55.0\n",
      "5 . eslint-plugin-react : 7.33.2\n",
      "6 . eslint-plugin-react-hooks : 4.6.0\n",
      "7 . eslint-plugin-react-refresh : 0.4.5\n",
      "8 . vite : 5.0.8\n",
      "🔺\n",
      "⏏️\n"
     ]
    }
   ],
   "source": [
    "#! package\n",
    "#! chargement des donnees du fichier json\n",
    "try:\n",
    "    # ouverture du fichier json\n",
    "    with open(\"package.json\", \"r\") as json_file: data = json.load(json_file)\n",
    "\n",
    "    # todo>> chargé\n",
    "    p = f\"✅ Fichier 'package.json' chargé\"\n",
    "    print(p)\n",
    "\n",
    "    # todo>> infos serv\n",
    "    p = f\"✳️ INFOS SERVEUR\"\n",
    "    print(p)\n",
    "\n",
    "    # tableaux des dépendances\n",
    "    # .items() permet de transformer les datas en un dictionnaire\n",
    "    i = 0\n",
    "    p = f\"🔻 DEPENDANCES SERVER :\"\n",
    "    print(p)\n",
    "    for dependencies, version in data[\"dependencies\"].items():\n",
    "        i = i + 1\n",
    "        version = version.lstrip(\"^~\")\n",
    "        p = f\"{i} . {dependencies} : {version}\"\n",
    "        print(p)\n",
    "    p = f\"🔺\"\n",
    "    print(p)\n",
    "\n",
    "    # tableaux des dépendances dev\n",
    "    i = 0\n",
    "    p = f\"🔻 DEPENDANCES DEV SERVER :\"\n",
    "    print(p)\n",
    "    for dependencies, version in data[\"devDependencies\"].items():\n",
    "        i = i + 1\n",
    "        version = version.lstrip(\"^~\")\n",
    "        p = f\"{i} . {dependencies} : {version}\"\n",
    "        print(p)\n",
    "    p = f\"🔺\"\n",
    "    print(p)\n",
    "\n",
    "    # end\n",
    "    p = f\"⏏️\"\n",
    "    print(p)\n",
    "\n",
    "except Exception as e:\n",
    "    # todo>> erreur\n",
    "    p = f\"📛 ERREUR\"\n",
    "    p = f\"{p} : {e}\"\n",
    "    print(p)\n",
    "    p = f\"❌ Ouverture du fichier 'package.json' echoué\"\n",
    "    print(p)"
   ]
  },
  {
   "cell_type": "markdown",
   "metadata": {},
   "source": [
    "## 💽 NPM"
   ]
  },
  {
   "cell_type": "markdown",
   "metadata": {},
   "source": [
    "[🤖]()\n",
    "> <span style=\"color:#ddb;\">**NPM (Node Package Manager)**</span>\n",
    "> est le gestionnaire de paquets officiel de Node.js. Il s'agit d'une puissante plateforme de gestion des dépendances qui permet aux développeurs de JavaScript (et de Node.js en particulier) de gérer les bibliothèques et les modules tiers dont leurs projets ont besoin"
   ]
  },
  {
   "cell_type": "code",
   "execution_count": 3,
   "metadata": {},
   "outputs": [
    {
     "name": "stdout",
     "output_type": "stream",
     "text": [
      "✅ NPM INSTALLE\n",
      "✳️ npm version 9.6.7\n",
      "⏏️\n"
     ]
    }
   ],
   "source": [
    "#! install npm\n",
    "#! verifie si npm est installé\n",
    "try:\n",
    "    # version de npm\n",
    "    result = subprocess.check_output(\"npm -v\", shell=True)\n",
    "    out = get_ipython().getoutput(\"npm -v\")\n",
    "\n",
    "    # todo>> installé\n",
    "    p = f\"✅ NPM INSTALLE\"\n",
    "    print(p)\n",
    "    p = f\"✳️ npm version {out[0]}\"\n",
    "    print(p)\n",
    "\n",
    "    # end\n",
    "    p = f\"⏏️\"\n",
    "    print(p)\n",
    "\n",
    "except Exception as e:\n",
    "    # todo>> erreur\n",
    "    p = f\"📛 ERREUR\"\n",
    "    p = f\"{p} : {e}\"\n",
    "    print(p)\n",
    "    \n",
    "    # todo>> installation\n",
    "    p = f\"⚠️ INSTALLATION DE NPM REQUIS\"\n",
    "    print(p)\n",
    "    p = f\"Veuillez installer nodejs et npm via ce lien : https://nodejs.org/\"\n",
    "    print(p)"
   ]
  },
  {
   "cell_type": "markdown",
   "metadata": {},
   "source": [
    "### 📥 NPM COLOR"
   ]
  },
  {
   "cell_type": "markdown",
   "metadata": {},
   "source": [
    "[🤖]()\n",
    "> <span style=\"color:#ddb\">**npm color**</span>\n",
    "> est le gestionnaire de paquets npm (Node Package Manager) pour travailler avec des couleurs en JavaScript"
   ]
  },
  {
   "cell_type": "code",
   "execution_count": 4,
   "metadata": {},
   "outputs": [
    {
     "name": "stdout",
     "output_type": "stream",
     "text": [
      "✅ NPM COLOR INSTALLE\n",
      "✳️ version de npm color : 4.2.3\n",
      "⏏️\n"
     ]
    }
   ],
   "source": [
    "#! npm color\n",
    "#! Vérifier si color est présent dans les dépendances du serveur\n",
    "try:\n",
    "    # version de color\n",
    "    result = data[\"dependencies\"][\"color\"]\n",
    "\n",
    "    # suppression du \"^\"\n",
    "    out = result.split(\"^\")[1]\n",
    "\n",
    "    # todo>> installé\n",
    "    p = f\"✅ NPM COLOR INSTALLE\"\n",
    "    print(p)\n",
    "    p = f\"✳️ version de npm color : {out}\"\n",
    "    print(p)\n",
    "\n",
    "    # end\n",
    "    p = f\"⏏️\"\n",
    "    print(p)\n",
    "    \n",
    "except Exception as e:\n",
    "    # todo>> erreur\n",
    "    p = f\"📛 ERREUR\"\n",
    "    p = f\"{p} : {e}\"\n",
    "    print(p)\n",
    "    \n",
    "    # todo>> installation\n",
    "    p = f\"⚠️ INSTALLATION DE NPM COLOR\"\n",
    "    print(p)\n",
    "    ! npm install color\n",
    "    p = f\"☑️ installation terminé\"\n",
    "    print(p)"
   ]
  },
  {
   "cell_type": "markdown",
   "metadata": {},
   "source": [
    "## 💽 REACT"
   ]
  },
  {
   "cell_type": "markdown",
   "metadata": {},
   "source": [
    "[🤖]()\n",
    "> <span style=\"color:#ddb;\">**react**</span>\n",
    "> est une bibliothèque JavaScript open-source créée par Facebook. Elle est principalement utilisée pour la création d'interfaces utilisateur interactives et dynamiques pour les applications web. React est souvent utilisé pour la construction de Single Page Applications (SPA) et est l'une des bibliothèques les plus populaires pour le développement d'applications front-end."
   ]
  },
  {
   "cell_type": "code",
   "execution_count": 5,
   "metadata": {},
   "outputs": [
    {
     "name": "stdout",
     "output_type": "stream",
     "text": [
      "✅ REACT INSTALLE\n",
      "✳️ version de react : 18.2.0\n",
      "⏏️\n"
     ]
    }
   ],
   "source": [
    "#! react\n",
    "#! verifie si react est installé\n",
    "try:\n",
    "    # version de react\n",
    "    result = subprocess.check_output(\"npm show react version\", shell=True)\n",
    "    out = result.decode(\"utf-8\").strip()\n",
    "    \n",
    "    # todo>> installé\n",
    "    p = \"✅ REACT INSTALLE\"\n",
    "    print(p)\n",
    "    p = f\"✳️ version de react : {out}\"\n",
    "    print(p)\n",
    "\n",
    "    # end\n",
    "    p = f\"⏏️\"\n",
    "    print(p)\n",
    "\n",
    "except Exception as e:\n",
    "    # todo>> erreur\n",
    "    p = f\"📛 ERREUR\"\n",
    "    p = f\"{p} : {e}\"\n",
    "    print(p)\n",
    "    \n",
    "    # todo>> installation\n",
    "    p = f\"⚠️ INSTALLATION DE REACT REQUIS\"\n",
    "    print(p)\n",
    "    p = f\"veuillez installer react\\n\\npour installer react:\\nassurez-vous d'avoir Node.js installé sur votre système\\nreact dépend de Node.js pour fonctionner.\\n\\ninstallez 'create React App' globalement en utilisant npm.\\n⏩ npm install -g create-react-app\\n⏩ npx create-react-app mon-app-react\\n\\nl'application react va s'installer automatiquement dans le dossier 'mon-app-react'\"\n",
    "    print(p)"
   ]
  },
  {
   "cell_type": "markdown",
   "metadata": {},
   "source": [
    "### 📥 REACT DOM"
   ]
  },
  {
   "cell_type": "markdown",
   "metadata": {},
   "source": [
    "[🤖]()\n",
    "> <span style=\"color:#ddb;\">**react-dom**</span>\n",
    "> est une bibliothèque JavaScript utilisée en conjonction avec React, une bibliothèque JavaScript pour la construction d'interfaces utilisateur. React DOM est principalement utilisé pour le rendu d'éléments React dans le navigateur."
   ]
  },
  {
   "cell_type": "code",
   "execution_count": 6,
   "metadata": {},
   "outputs": [
    {
     "name": "stdout",
     "output_type": "stream",
     "text": [
      "✅ REACT DOM INSTALLE\n",
      "✳️ version de react-dom : 18.2.0\n",
      "⏏️\n"
     ]
    }
   ],
   "source": [
    "#! install react-dom\n",
    "#! Vérifier si react-dom est présent dans les dépendances\n",
    "try:\n",
    "    # version de react-dom\n",
    "    result = data[\"dependencies\"][\"react-dom\"]\n",
    "\n",
    "    # suppression du \"^\"\n",
    "    out = result.split(\"^\")[1]\n",
    "\n",
    "    # todo>> installé\n",
    "    p = f\"✅ REACT DOM INSTALLE\"\n",
    "    print(p)\n",
    "    p = f\"✳️ version de react-dom : {out}\"\n",
    "    print(p)\n",
    "\n",
    "    # end\n",
    "    p = f\"⏏️\"\n",
    "    print(p)\n",
    "    \n",
    "except Exception as e:\n",
    "    # todo>> erreur\n",
    "    p = f\"📛 ERREUR\"\n",
    "    p = f\"{p} : {e}\"\n",
    "    print(p)\n",
    "\n",
    "    # todo>> installation\n",
    "    p = f\"⚠️ INSTALLATION DE REACT DOM\"\n",
    "    print(p)\n",
    "    ! npm install react-dom\n",
    "    p = f\"☑️ installation terminé\"\n",
    "    print(p)\n",
    "    "
   ]
  },
  {
   "cell_type": "markdown",
   "metadata": {},
   "source": [
    "### 📥 REACT ROUTER DOM"
   ]
  },
  {
   "cell_type": "markdown",
   "metadata": {},
   "source": [
    "[🤖]()\n",
    "> <span style=\"color:#ddb;\">**react-router-dom**</span>\n",
    "> est une bibliothèque qui facilite la gestion de la navigation et des routes dans une application React. Elle permet de créer des applications à page unique (Single Page Applications ou SPA) avec des URL propres, des transitions fluides entre les pages et la gestion de l'historique de navigation."
   ]
  },
  {
   "cell_type": "code",
   "execution_count": 7,
   "metadata": {},
   "outputs": [
    {
     "name": "stdout",
     "output_type": "stream",
     "text": [
      "✅ REACT ROUTER DOM INSTALLE\n",
      "✳️ version de react-router-dom : 6.21.1\n",
      "⏏️\n"
     ]
    }
   ],
   "source": [
    "#! install react-router-dom\n",
    "#! Vérifier si react-router-dom est présent dans les dépendances\n",
    "try:\n",
    "    # version de react-router-dom\n",
    "    result = data[\"dependencies\"][\"react-router-dom\"]\n",
    "\n",
    "    # suppression du \"^\"\n",
    "    out = result.split(\"^\")[1]\n",
    "\n",
    "    # todo>> installé\n",
    "    p = f\"✅ REACT ROUTER DOM INSTALLE\"\n",
    "    print(p)\n",
    "    p = f\"✳️ version de react-router-dom : {out}\"\n",
    "    print(p)\n",
    "\n",
    "    # end\n",
    "    p = f\"⏏️\"\n",
    "    print(p)\n",
    "    \n",
    "except Exception as e:\n",
    "    # todo>> erreur\n",
    "    p = f\"📛 ERREUR\"\n",
    "    p = f\"{p} : {e}\"\n",
    "    print(p)\n",
    "    \n",
    "    # todo>> intallation\n",
    "    p = f\"⚠️ INSTALLATION DE REACT ROUTER DOM\"\n",
    "    print(p)\n",
    "    ! npm install react-router-dom\n",
    "    p = f\"☑️ installation terminé\"\n",
    "    print(p)"
   ]
  },
  {
   "cell_type": "markdown",
   "metadata": {},
   "source": [
    "### 📥 REACT HELMET"
   ]
  },
  {
   "cell_type": "markdown",
   "metadata": {},
   "source": [
    "[🤖]()\n",
    "><span style=\"color:#ddb;\">**react-helmet**</span> \n",
    "> est une bibliothèque React très utile qui permet de gérer de manière efficace et dynamique les éléments de la balise ```head``` de votre page web. Ces éléments incluent généralement des informations telles que le titre de la page, les méta-tags, les liens vers les feuilles de style, les scripts, etc."
   ]
  },
  {
   "cell_type": "code",
   "execution_count": 8,
   "metadata": {},
   "outputs": [
    {
     "name": "stdout",
     "output_type": "stream",
     "text": [
      "✅ REACT HELMET INSTALLE\n",
      "✳️ version de react-helmet : 6.1.0\n",
      "⏏️\n"
     ]
    }
   ],
   "source": [
    "#! install react-helmet\n",
    "#! Vérifier si react-helmet est dans les dépendances\n",
    "try:\n",
    "    # version de react-helmet\n",
    "    result = data[\"dependencies\"][\"react-helmet\"]\n",
    "\n",
    "    # suppression du \"^\"\n",
    "    out = result.split(\"^\")[1]\n",
    "\n",
    "    # todo>> installé\n",
    "    p = f\"✅ REACT HELMET INSTALLE\"\n",
    "    print(p)\n",
    "    p = f\"✳️ version de react-helmet : {out}\"\n",
    "    print(p)\n",
    "\n",
    "    # end\n",
    "    p = f\"⏏️\"\n",
    "    print(p)\n",
    "    \n",
    "except Exception as e:\n",
    "    # todo>> erreur\n",
    "    p = f\"📛 ERREUR\"\n",
    "    p = f\"{p} : {e}\"\n",
    "    print(p)\n",
    "    \n",
    "    # todo>> intallation\n",
    "    p = f\"⚠️ INSTALLATION DE REACT HELMET\"\n",
    "    print(p)\n",
    "    ! npm install react-helmet\n",
    "    p = f\"☑️ installation terminé\"\n",
    "    print(p)"
   ]
  },
  {
   "cell_type": "markdown",
   "metadata": {},
   "source": [
    "### 📥 REACT HELMET ASYNC"
   ]
  },
  {
   "cell_type": "markdown",
   "metadata": {},
   "source": [
    "[🤖]()\n",
    "> <span style=\"color:#ddb;\">**react-helmet-async**</span>\n",
    "> est une bibliothèque JavaScript destinée à être utilisée avec React. Elle est conçue pour gérer la manipulation des balises ```head``` dans une application React de manière asynchrone."
   ]
  },
  {
   "cell_type": "code",
   "execution_count": 9,
   "metadata": {},
   "outputs": [
    {
     "name": "stdout",
     "output_type": "stream",
     "text": [
      "✅ REACT HELMET ASYNC INSTALLE\n",
      "✳️ version de react-helmet-async : 2.0.4\n",
      "⏏️\n"
     ]
    }
   ],
   "source": [
    "#! install react-helmet-async\n",
    "#! Vérifier si react-helmet-async est dans les dépendances\n",
    "try:\n",
    "    # version de react-helmet-async\n",
    "    result = data[\"dependencies\"][\"react-helmet-async\"]\n",
    "\n",
    "    # suppression du \"^\"\n",
    "    out = result.split(\"^\")[1]\n",
    "\n",
    "    # todo>> installé\n",
    "    p = f\"✅ REACT HELMET ASYNC INSTALLE\"\n",
    "    print(p)\n",
    "    p = f\"✳️ version de react-helmet-async : {out}\"\n",
    "    print(p)\n",
    "\n",
    "    # end\n",
    "    p = f\"⏏️\"\n",
    "    print(p)\n",
    "    \n",
    "except Exception as e:\n",
    "    # todo>> erreur\n",
    "    p = f\"📛 ERREUR\"\n",
    "    p = f\"{p} : {e}\"\n",
    "    print(p)\n",
    "    \n",
    "    # todo>> intallation\n",
    "    p = f\"⚠️ INSTALLATION DE REACT HELMET ASYNC\"\n",
    "    print(p)\n",
    "    ! npm install react-helmet-async\n",
    "    p = f\"☑️ installation terminé\"\n",
    "    print(p)"
   ]
  },
  {
   "cell_type": "markdown",
   "metadata": {},
   "source": [
    "### 📥 REACT SPRING"
   ]
  },
  {
   "cell_type": "markdown",
   "metadata": {},
   "source": [
    "[🤖]()\n",
    "> <span style=\"color:#ddb;\">**react-spring**</span>\n",
    "> est une bibliothèque populaire pour l'animation des composants dans une application React. Elle permet de créer des animations fluides et réactives en utilisant la puissance des ressorts (springs) physiques pour définir des transitions entre les états des composants."
   ]
  },
  {
   "cell_type": "code",
   "execution_count": 10,
   "metadata": {},
   "outputs": [
    {
     "name": "stdout",
     "output_type": "stream",
     "text": [
      "✅ REACT SPRING INSTALLE\n",
      "✳️ version de react-spring : 9.7.3\n",
      "⏏️\n"
     ]
    }
   ],
   "source": [
    "#! install react-spring\n",
    "#! Vérifier si react-spring est dans les dépendances\n",
    "try:\n",
    "    # version de react-spring\n",
    "    result = data[\"dependencies\"][\"react-spring\"]\n",
    "\n",
    "    # suppression du \"^\"\n",
    "    out = result.split(\"^\")[1]\n",
    "\n",
    "    # todo>> installé\n",
    "    p = f\"✅ REACT SPRING INSTALLE\"\n",
    "    print(p)\n",
    "    p = f\"✳️ version de react-spring : {out}\"\n",
    "    print(p)\n",
    "\n",
    "    # end\n",
    "    p = f\"⏏️\"\n",
    "    print(p)\n",
    "    \n",
    "except Exception as e:\n",
    "    # todo>> erreur\n",
    "    p = f\"📛 ERREUR\"\n",
    "    p = f\"{p} : {e}\"\n",
    "    print(p)\n",
    "    \n",
    "    # todo>> intallation\n",
    "    p = f\"⚠️ INSTALLATION DE REACT SPRING\"\n",
    "    print(p)\n",
    "    ! npm install react-spring\n",
    "    p = f\"☑️ installation terminé\"\n",
    "    print(p)"
   ]
  },
  {
   "cell_type": "markdown",
   "metadata": {},
   "source": [
    "## 💽 EXPRESS"
   ]
  },
  {
   "cell_type": "markdown",
   "metadata": {},
   "source": [
    "[🤖]()\n",
    "> <span style=\"color:#ddb;\">**express**</span>\n",
    "> , souvent simplement appelé Express, est une bibliothèque pour Node.js, très populaire dans le développement d'applications web et d'API. Elle est conçue pour faciliter la création de serveurs web et d'API en fournissant un ensemble robuste de fonctionnalités pour les applications web et mobiles."
   ]
  },
  {
   "cell_type": "code",
   "execution_count": 11,
   "metadata": {},
   "outputs": [
    {
     "name": "stdout",
     "output_type": "stream",
     "text": [
      "✅ EXPRESS INSTALLE\n",
      "✳️ version de express : 4.18.2\n",
      "⏏️\n"
     ]
    }
   ],
   "source": [
    "#! install express\n",
    "#! Vérifier si express est dans les dépendances\n",
    "try:\n",
    "    # version de express\n",
    "    result = data[\"dependencies\"][\"express\"]\n",
    "\n",
    "    # suppression du \"^\"\n",
    "    out = result.split(\"^\")[1]\n",
    "\n",
    "    # todo>> installé\n",
    "    p = f\"✅ EXPRESS INSTALLE\"\n",
    "    print(p)\n",
    "    p = f\"✳️ version de express : {out}\"\n",
    "    print(p)\n",
    "\n",
    "    # end\n",
    "    p = f\"⏏️\"\n",
    "    print(p)\n",
    "    \n",
    "except Exception as e:\n",
    "    # todo>> erreur\n",
    "    p = f\"📛 ERREUR\"\n",
    "    p = f\"{p} : {e}\"\n",
    "    print(p)\n",
    "    \n",
    "    # todo>> intallation\n",
    "    p = f\"⚠️ INSTALLATION DE EXPRESS\"\n",
    "    print(p)\n",
    "    ! npm install express\n",
    "    p = f\"☑️ installation terminé\"\n",
    "    print(p)"
   ]
  },
  {
   "cell_type": "markdown",
   "metadata": {},
   "source": [
    "## 💽 COLORS"
   ]
  },
  {
   "cell_type": "markdown",
   "metadata": {},
   "source": [
    "[🤖]()\n",
    "> <span style=\"color:#ddb;\">**colors**</span>\n",
    "> est un package populaire dans l'écosystème Node.js, utilisé pour ajouter des couleurs et des styles aux textes dans la console (terminal). Il permet aux développeurs de modifier l'apparence des textes de sortie, rendant les logs ou les messages plus lisibles et visuellement distincts, ce qui peut être particulièrement utile pour le débogage ou pour mettre en évidence des informations importantes."
   ]
  },
  {
   "cell_type": "code",
   "execution_count": 12,
   "metadata": {},
   "outputs": [
    {
     "name": "stdout",
     "output_type": "stream",
     "text": [
      "✅ COLORS INSTALLE\n",
      "✳️ version de colors : 1.4.0\n",
      "⏏️\n"
     ]
    }
   ],
   "source": [
    "#! install colors\n",
    "#! Vérifier si colors est dans les dépendances\n",
    "try:\n",
    "    # version de colors\n",
    "    result = data[\"dependencies\"][\"colors\"]\n",
    "\n",
    "    # suppression du \"^\"\n",
    "    out = result.split(\"^\")[1]\n",
    "\n",
    "    # todo>> installé\n",
    "    p = f\"✅ COLORS INSTALLE\"\n",
    "    print(p)\n",
    "    p = f\"✳️ version de colors : {out}\"\n",
    "    print(p)\n",
    "\n",
    "    # end\n",
    "    p = f\"⏏️\"\n",
    "    print(p)\n",
    "    \n",
    "except Exception as e:\n",
    "    # todo>> erreur\n",
    "    p = f\"📛 ERREUR\"\n",
    "    p = f\"{p} : {e}\"\n",
    "    print(p)\n",
    "    \n",
    "    # todo>> intallation\n",
    "    p = f\"⚠️ INSTALLATION DE COLORS\"\n",
    "    print(p)\n",
    "    ! npm install colors\n",
    "    p = f\"☑️ installation terminé\"\n",
    "    print(p)"
   ]
  },
  {
   "cell_type": "markdown",
   "metadata": {},
   "source": [
    "## 💽 MYSQL"
   ]
  },
  {
   "cell_type": "markdown",
   "metadata": {},
   "source": [
    "### 📥 MYSQL"
   ]
  },
  {
   "cell_type": "markdown",
   "metadata": {},
   "source": [
    "[🤖]()\n",
    "> <span style=\"color:#ddb;\">**mysql**</span>\n",
    "> est un bibliothèque qui permet aux développeurs d'interagir avec des bases de données MySQL directement depuis une application Node.js. Elle fournit une interface pour se connecter à votre serveur MySQL, exécuter des requêtes SQL, et gérer les résultats de ces requêtes dans votre application Node.js."
   ]
  },
  {
   "cell_type": "code",
   "execution_count": 13,
   "metadata": {},
   "outputs": [
    {
     "name": "stdout",
     "output_type": "stream",
     "text": [
      "✅ MYSQL INSTALLE\n",
      "✳️ version de mysql : 2.18.1\n",
      "⏏️\n"
     ]
    }
   ],
   "source": [
    "#! install mysql\n",
    "#! Vérifier si mysql est dans les dépendances\n",
    "try:\n",
    "    # version de mysql\n",
    "    result = data[\"dependencies\"][\"mysql\"]\n",
    "\n",
    "    # suppression du \"^\"\n",
    "    out = result.split(\"^\")[1]\n",
    "\n",
    "    # todo>> installé\n",
    "    p = f\"✅ MYSQL INSTALLE\"\n",
    "    print(p)\n",
    "    p = f\"✳️ version de mysql : {out}\"\n",
    "    print(p)\n",
    "\n",
    "    # end\n",
    "    p = f\"⏏️\"\n",
    "    print(p)\n",
    "    \n",
    "except Exception as e:\n",
    "    # todo>> erreur\n",
    "    p = f\"📛 ERREUR\"\n",
    "    p = f\"{p} : {e}\"\n",
    "    print(p)\n",
    "    \n",
    "    # todo>> intallation\n",
    "    p = f\"⚠️ INSTALLATION DE MYSQL\"\n",
    "    print(p)\n",
    "    ! npm install mysql\n",
    "    p = f\"☑️ installation terminé\"\n",
    "    print(p)"
   ]
  },
  {
   "cell_type": "markdown",
   "metadata": {},
   "source": [
    "### 📥 MYSQL2"
   ]
  },
  {
   "cell_type": "markdown",
   "metadata": {},
   "source": [
    "[🤖]()\n",
    "> <span style=\"color:#ddb;\">**mysql2**</span>\n",
    "> est une bibliothèque populaire. Elle est souvent utilisée pour se connecter à des bases de données MySQL. mysql2 est conçue pour être compatible avec mysql, une autre bibliothèque Node.js, mais avec des améliorations en termes de performances et de fonctionnalités supplémentaires, comme le support des promesses pour une programmation asynchrone plus moderne."
   ]
  },
  {
   "cell_type": "code",
   "execution_count": 14,
   "metadata": {},
   "outputs": [
    {
     "name": "stdout",
     "output_type": "stream",
     "text": [
      "✅ MYSQL2 INSTALLE\n",
      "✳️ version de mysql2 : 3.6.5\n",
      "⏏️\n"
     ]
    }
   ],
   "source": [
    "#! install mysql2\n",
    "#! Vérifier si mysql2 est dans les dépendances\n",
    "try:\n",
    "    # version de mysql2\n",
    "    result = data[\"dependencies\"][\"mysql2\"]\n",
    "\n",
    "    # suppression du \"^\"\n",
    "    out = result.split(\"^\")[1]\n",
    "\n",
    "    # todo>> installé\n",
    "    p = f\"✅ MYSQL2 INSTALLE\"\n",
    "    print(p)\n",
    "    p = f\"✳️ version de mysql2 : {out}\"\n",
    "    print(p)\n",
    "\n",
    "    # end\n",
    "    p = f\"⏏️\"\n",
    "    print(p)\n",
    "    \n",
    "except Exception as e:\n",
    "    # todo>> erreur\n",
    "    p = f\"📛 ERREUR\"\n",
    "    p = f\"{p} : {e}\"\n",
    "    print(p)\n",
    "    \n",
    "    # todo>> intallation\n",
    "    p = f\"⚠️ INSTALLATION DE MYSQL2\"\n",
    "    print(p)\n",
    "    ! npm install mysql2\n",
    "    p = f\"☑️ installation terminé\"\n",
    "    print(p)"
   ]
  }
 ],
 "metadata": {
  "kernelspec": {
   "display_name": "Python 3",
   "language": "python",
   "name": "python3"
  },
  "language_info": {
   "codemirror_mode": {
    "name": "ipython",
    "version": 3
   },
   "file_extension": ".py",
   "mimetype": "text/x-python",
   "name": "python",
   "nbconvert_exporter": "python",
   "pygments_lexer": "ipython3",
   "version": "3.11.4"
  }
 },
 "nbformat": 4,
 "nbformat_minor": 2
}
