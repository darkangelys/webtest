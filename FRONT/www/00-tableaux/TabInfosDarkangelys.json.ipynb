{
 "cells": [
  {
   "cell_type": "markdown",
   "metadata": {},
   "source": [
    "# 🗃️ TABLEAU INFOS DARKANGELYS"
   ]
  },
  {
   "cell_type": "code",
   "execution_count": 1,
   "metadata": {},
   "outputs": [
    {
     "name": "stdout",
     "output_type": "stream",
     "text": [
      "▶️ BIBLIOTHEQUES NECESSAIRES\n",
      "✅ JSON importé\n",
      "✅ DATETIME importé\n",
      "✅ LOCALE importé\n",
      "☑️ FIN\n"
     ]
    }
   ],
   "source": [
    "#! BIBILIOTHEQUES\n",
    "p = f\"▶️ BIBLIOTHEQUES NECESSAIRES\"\n",
    "print(p)\n",
    "\n",
    "# json\n",
    "#? json nous permet de charger des fichiers JSON\n",
    "#! verifie si json est installé\n",
    "try:\n",
    "    # importation de json\n",
    "    import json\n",
    "\n",
    "    # todo>> installé\n",
    "    p = f\"✅ JSON importé\"\n",
    "    print(p)\n",
    "\n",
    "except Exception as e:\n",
    "    # todo>> erreur\n",
    "    p = f\"📛 ERREUR\"\n",
    "    p = f\"{p} : {e}\"\n",
    "    print(p)\n",
    "    \n",
    "except:\n",
    "    # todo>> installation\n",
    "    p = f\"⚠️ INSTALLATION DE PYTHON REQUIS\"\n",
    "    print(p)\n",
    "    p = f\"📛 json est une bibliotheque de Python.\"\n",
    "    print(p)\n",
    "    p = f\"veuillez télécharger la dernière version de Python https://www.python.org/downloads/ et téléchargez la dernière version de Python pour Windows. Assurez-vous de choisir la version la plus récente compatible avec votre système (32 bits ou 64 bits).\"\n",
    "    print(p)\n",
    "\n",
    "# datetime\n",
    "#? Le module datetime en Python est utilisé pour manipuler des objets de date et d'heure. Il fournit des classes et des fonctions pour travailler avec des dates, des heures, des durées, des intervalles et des calculs de date et d'heure. \n",
    "#! verifie si datetime est installé\n",
    "try:\n",
    "    # importation de datetime\n",
    "    from datetime import datetime\n",
    "\n",
    "    # todo>> installé\n",
    "    p = f\"✅ DATETIME importé\"\n",
    "    print(p)\n",
    "\n",
    "except Exception as e:\n",
    "    # todo>> erreur\n",
    "    p = f\"📛 ERREUR\"\n",
    "    p = f\"{p} : {e}\"\n",
    "    print(p)\n",
    "    \n",
    "except:\n",
    "    # todo>> installation\n",
    "    p = f\"⚠️ INSTALLATION DE PYTHON REQUIS\"\n",
    "    print(p)\n",
    "    p = f\"📛 datetime est une bibliotheque de Python.\"\n",
    "    print(p)\n",
    "    p = f\"veuillez télécharger la dernière version de Python https://www.python.org/downloads/ et téléchargez la dernière version de Python pour Windows. Assurez-vous de choisir la version la plus récente compatible avec votre système (32 bits ou 64 bits).\"\n",
    "    print(p)\n",
    "\n",
    "# locale\n",
    "#? Le module locale en Python est utilisé pour gérer des paramètres spécifiques à la localisation, tels que le format de date, le format de nombre, la monnaie, les séparateurs de milliers, etc. Il permet à votre programme de s'adapter aux préférences locales de l'utilisateur, ce qui est essentiel pour les applications qui doivent être localisées dans différentes langues et régions du monde.\n",
    "#! verifie si locale est installé\n",
    "try:\n",
    "    # importation de locale\n",
    "    import locale\n",
    "\n",
    "    # todo>> installé\n",
    "    p = f\"✅ LOCALE importé\"\n",
    "    print(p)\n",
    "\n",
    "except Exception as e:\n",
    "    # todo>> erreur\n",
    "    p = f\"📛 ERREUR\"\n",
    "    p = f\"{p} : {e}\"\n",
    "    print(p)\n",
    "    \n",
    "except:\n",
    "    # todo>> installation\n",
    "    p = f\"⚠️ INSTALLATION DE PYTHON REQUIS\"\n",
    "    print(p)\n",
    "    p = f\"📛 locale est une bibliotheque de Python.\"\n",
    "    print(p)\n",
    "    p = f\"veuillez télécharger la dernière version de Python https://www.python.org/downloads/ et téléchargez la dernière version de Python pour Windows. Assurez-vous de choisir la version la plus récente compatible avec votre système (32 bits ou 64 bits).\"\n",
    "    print(p)\n",
    "\n",
    "#end\n",
    "p = f\"☑️ FIN\"\n",
    "print(p)"
   ]
  },
  {
   "cell_type": "markdown",
   "metadata": {},
   "source": [
    "### 💽 F()"
   ]
  },
  {
   "cell_type": "code",
   "execution_count": 2,
   "metadata": {},
   "outputs": [
    {
     "name": "stdout",
     "output_type": "stream",
     "text": [
      "✅ fDate() actif\n"
     ]
    }
   ],
   "source": [
    "#! fDate()\n",
    "#! affiche les dates au format FR\n",
    "def fDate(date):\n",
    "    # Définir la localisation en français afin d'afficher les dates en francais\n",
    "    locale.setlocale(locale.LC_TIME, \"fr_FR\")\n",
    "    # datde de naisance\n",
    "    date = str(date)\n",
    "    # Convertir la date de naissance au format souhaité ymd -> dby\n",
    "    date = datetime.strptime(date, '%Y%m%d').strftime('%d %B %Y')\n",
    "    # out\n",
    "    return date\n",
    "\n",
    "# out\n",
    "p = f\"✅ fDate() actif\"\n",
    "print(p)"
   ]
  },
  {
   "cell_type": "code",
   "execution_count": 3,
   "metadata": {},
   "outputs": [
    {
     "name": "stdout",
     "output_type": "stream",
     "text": [
      "✅ fDateMA() active\n"
     ]
    }
   ],
   "source": [
    "#! fDateMA()\n",
    "#! affiche les dates au format FR : mois et années\n",
    "def fDateMA(date):\n",
    "    # Définir la localisation en français afin d'afficher les dates en francais\n",
    "    locale.setlocale(locale.LC_TIME, \"fr_FR\")\n",
    "    # datde de naisance\n",
    "    date = str(date)\n",
    "    # Convertir la date de naissance au format souhaité ymd -> dby\n",
    "    date = datetime.strptime(date, '%Y%m').strftime('%B %Y')\n",
    "    # out\n",
    "    return date\n",
    "\n",
    "# out\n",
    "p = f\"✅ fDateMA() active\"\n",
    "print(p)"
   ]
  },
  {
   "cell_type": "code",
   "execution_count": 4,
   "metadata": {},
   "outputs": [
    {
     "name": "stdout",
     "output_type": "stream",
     "text": [
      "✅ fCompetences() active\n"
     ]
    }
   ],
   "source": [
    "#! fCompetences()\n",
    "#! affiche les compétences dont la note est supérieure ou égale à nbr\n",
    "def fCompetences(data, nbr):\n",
    "    # pour afficher la paitre cle - valeur on utilisera item().\n",
    "    # La fonction isinstance() en Python est utilisée pour vérifier si un objet est une instance d'une classe donnée.\n",
    "    for cle, valeur in data.items():\n",
    "        if isinstance(valeur, int) and valeur >= nbr:\n",
    "            if valeur == 0 : barre = \"[          ]\"\n",
    "            if valeur == 1 : barre = \"[#####     ]\"\n",
    "            if valeur == 2 : barre = \"[########  ]\"\n",
    "            if valeur == 3 : barre = \"[##########]\"\n",
    "            # out\n",
    "            p = f\"{barre} {cle}\"\n",
    "            print(p)\n",
    "\n",
    "# out\n",
    "p = f\"✅ fCompetences() active\"\n",
    "print(p)"
   ]
  },
  {
   "cell_type": "markdown",
   "metadata": {},
   "source": [
    "## 📑 PACKAGES"
   ]
  },
  {
   "cell_type": "code",
   "execution_count": 25,
   "metadata": {},
   "outputs": [
    {
     "name": "stdout",
     "output_type": "stream",
     "text": [
      "✅ Fichier 'TabInfosDarkangelys.json' chargé\n",
      "➡️ data : [infosDarkangelys]\n",
      "➡️ data : [langues]\n",
      "➡️ data : [competences]\n",
      "➡️ data : [formations]\n",
      "➡️ data : [experiences]\n",
      "☑️ datas chargés\n"
     ]
    }
   ],
   "source": [
    "#! package\n",
    "#! chargement des donnees du fichier json\n",
    "try:\n",
    "    # ouverture du fichier json\n",
    "    with open(\"TabInfosDarkangelys.json\", \"r\", encoding=\"utf-8\") as json_file: data = json.load(json_file)\n",
    "\n",
    "    # todo>> chargé\n",
    "    p = f\"✅ Fichier 'TabInfosDarkangelys.json' chargé\"\n",
    "    print(p)\n",
    "\n",
    "    # todo>> infosPersonnelles\n",
    "    # accéder aux informations personnelles :\n",
    "    infosDarkangelys = data['darkangelys']\n",
    "    p = f\"➡️ data : [infosDarkangelys]\"\n",
    "    print(p)\n",
    "\n",
    "    # todo>> langues\n",
    "    # accéder aux informations personnelles :\n",
    "    langues = data['langues']\n",
    "    p = f\"➡️ data : [langues]\"\n",
    "    print(p)\n",
    "\n",
    "    # todo>> competences\n",
    "    # accéder aux compétences :\n",
    "    competences = data['competences']\n",
    "    p = f\"➡️ data : [competences]\"\n",
    "    print(p)\n",
    "\n",
    "    # todo>> formations\n",
    "    # accéder aux formations :\n",
    "    formations = data['formations']\n",
    "    p = f\"➡️ data : [formations]\"\n",
    "    print(p)\n",
    "\n",
    "    # todo>> experiences\n",
    "    # accéder aux expériences professionnelles :\n",
    "    experiences = data['experiences']\n",
    "    p = f\"➡️ data : [experiences]\"\n",
    "    print(p)\n",
    "\n",
    "    #end\n",
    "    p = f\"☑️ datas chargés\"\n",
    "    print(p)\n",
    "\n",
    "except Exception as e:\n",
    "    # todo>> erreur\n",
    "    p = f\"📛 ERREUR\"\n",
    "    p = f\"{p} : {e}\"\n",
    "    print(p)\n",
    "    p = f\"❌ Ouverture du fichier 'TabInfosDarkangelys.json' echoué\"\n",
    "    print(p)"
   ]
  },
  {
   "cell_type": "markdown",
   "metadata": {},
   "source": [
    "## 🗂️ Infos personnelles"
   ]
  },
  {
   "cell_type": "markdown",
   "metadata": {},
   "source": [
    "### 📅 TAB Data personnelles"
   ]
  },
  {
   "cell_type": "code",
   "execution_count": 12,
   "metadata": {},
   "outputs": [
    {
     "name": "stdout",
     "output_type": "stream",
     "text": [
      "{'nomTable': 'données personnelles', 'id': 0, 'nom': 'darkangelys', 'prenom': 'Nicolas', 'photoUrl': 'darkangelys-beige.jpeg', 'sexe': 'M', 'dateNaissance': 19870218, 'paysNaissance': 'Gabon', 'villeNaissance': 'Oyem', 'regionNaissance': 'Woleu-Ntem', 'cpVilleNaissance': '', 'email': 'ncemon@gmail.com', 'url': 'www.pixeoceans.com', 'tel': 456323013, 'telIndex': 32, 'numeroResidence': 134, 'rueResidence': 'Avenue du Général de Gaulle', 'cpVilleResidence': 7000, 'villeResidence': 'Mons', 'regionResidence': 'Hainaut', 'paysResidence': 'Belgique', 'permis': 'B'}\n",
      "✅ Chargement des infos de [Darkangelys] effectué\n"
     ]
    }
   ],
   "source": [
    "#! Tableau de donnees personnelles\n",
    "#! affiche le tableau des infos de Darkangelys\n",
    "\n",
    "# donnees darkangelys\n",
    "darkangelys = infosDarkangelys[1]\n",
    "print(darkangelys)\n",
    "# out\n",
    "p = f\"✅ Chargement des infos de [Darkangelys] effectué\"\n",
    "print(p)"
   ]
  },
  {
   "cell_type": "markdown",
   "metadata": {},
   "source": [
    "### 📄 Informations personnelles"
   ]
  },
  {
   "cell_type": "code",
   "execution_count": 13,
   "metadata": {},
   "outputs": [
    {
     "name": "stdout",
     "output_type": "stream",
     "text": [
      "🫨 darkangelys Nicolas\n",
      "🔹 né le 18 février 1987 à Oyem au Gabon\n",
      "🔹 tel : +32 456 32 30 13\n",
      "🔹 email : ncemon@gmail.com\n",
      "🔹 adresse : 134 Avenue du Général de Gaulle, 7000 Mons Belgique\n",
      "🔹 permis de consuire B\n"
     ]
    }
   ],
   "source": [
    "#! informations personnelles\n",
    "\n",
    "# todo>> 📑 nom et prenom\n",
    "nom = darkangelys[\"nom\"]\n",
    "prenom = darkangelys[\"prenom\"]\n",
    "# out\n",
    "p = f\"🫨 {nom} {prenom}\"\n",
    "print(p)\n",
    "\n",
    "# todo>> 📑 date de naissance\n",
    "# datde de naisance\n",
    "dateNaissance = darkangelys[\"dateNaissance\"]\n",
    "# Convertir la date de naissance au format souhaité\n",
    "dateNaissance = fDate(dateNaissance)\n",
    "#>\n",
    "paysNaissance = darkangelys[\"paysNaissance\"]\n",
    "regionNaissance = darkangelys[\"regionNaissance\"]\n",
    "villeNaissance = darkangelys[\"villeNaissance\"]\n",
    "# out\n",
    "p = f\"🔹 né le {dateNaissance} à {villeNaissance} au {paysNaissance}\"\n",
    "print(p)\n",
    "\n",
    "# todo>> 📑 telephonne\n",
    "telIndex = darkangelys[\"telIndex\"]\n",
    "telephonne = str(darkangelys[\"tel\"])\n",
    "# format telephonne\n",
    "i = 1\n",
    "tel = \"\"\n",
    "for nbr in telephonne:\n",
    "    if i==4 or i==6 or i==8: tel = tel + \" \" + nbr\n",
    "    else: tel = tel + nbr\n",
    "    i = i + 1\n",
    "# out\n",
    "p = f\"🔹 tel : +{telIndex} {tel}\"\n",
    "print(p)\n",
    "\n",
    "# todo>> 📑 email\n",
    "email = darkangelys[\"email\"]\n",
    "# out\n",
    "p = f\"🔹 email : {email}\"\n",
    "print(p)\n",
    "\n",
    "# todo>> 📑 adresse\n",
    "numeroResidence = darkangelys[\"numeroResidence\"]\n",
    "rueResidence = darkangelys[\"rueResidence\"]\n",
    "cpVilleResidence = darkangelys[\"cpVilleResidence\"]\n",
    "villeResidence = darkangelys[\"villeResidence\"]\n",
    "paysResidence = darkangelys[\"paysResidence\"]\n",
    "# out\n",
    "p = f\"🔹 adresse : {numeroResidence} {rueResidence}, {cpVilleResidence} {villeResidence} {paysResidence}\"\n",
    "print(p)\n",
    "\n",
    "# todo>> 📑 permis de conduire\n",
    "permis = darkangelys[\"permis\"]\n",
    "# out\n",
    "p = f\"🔹 permis de consuire {permis}\"\n",
    "print(p)"
   ]
  },
  {
   "cell_type": "markdown",
   "metadata": {},
   "source": [
    "## 🗂️ Compétences"
   ]
  },
  {
   "cell_type": "markdown",
   "metadata": {},
   "source": [
    "### 📅 TAB Data compétences"
   ]
  },
  {
   "cell_type": "code",
   "execution_count": 17,
   "metadata": {},
   "outputs": [
    {
     "name": "stdout",
     "output_type": "stream",
     "text": [
      "{'nomTable': 'secteur de travail', 'Graphisme': 3, 'WebDesign': 3, 'Marketing': 3, 'ECommerce': 3, 'Develloper': 3, 'Gerant': 3}\n",
      "✅ Chargement des infos des [competencesSecteurs] de effectué\n",
      "{'nomTable': 'notions', 'Bureautique': 3, 'Informatique': 3, 'Webdesign': 3, 'Graphisme': 2, 'Marketing': 2, 'Develloper': 2, 'Communication': 2, '3D': 2, 'SEO': 2, 'BigData': 2, 'IntelligenceArtificielle': 2, 'BusinessIntelligence': 2, 'MachingLearning': 2, 'DeepLearning': 2}\n",
      "✅ Chargement des infos des [competencesNotions] de effectué\n",
      "{'nomTable': 'logiciels', 'SuiteOffice': 3, 'SuiteAdobe': 2, 'NodePad++': 3, 'PHPMyAdmin': 3, 'VS Code': 2, 'Obsidian': 2, 'PowerBI': 2, 'NEO4J': 2, 'vegas': 2, '3DSMAX': 1, 'Autocad': 1, 'Maya': 1, 'SketchUp': 1}\n",
      "✅ Chargement des infos des [competencesLogiciels] de effectué\n",
      "{'nomTable': 'langages de programmation', 'HTML': 3, 'CSS': 3, 'MARKDOWN': 3, 'GIT': 2, 'JS': 2, 'TS': 2, 'NODEJS': 2, 'MONGODB': 2, 'EXPRESS': 2, 'REACT': 2, 'VUE': 2, 'ANGULAR': 2, 'TYPESCRIPT': 2, 'JSON': 2, 'JAVA': 1, 'C': 1, 'C++': 1, 'C#': 1, 'PHP': 2, 'SQL': 2, 'PYTHON': 2, 'FLASK': 1, 'NUMPY': 1, 'PANDAS': 1}\n",
      "✅ Chargement des infos des [competencesProgrammation] de effectué\n"
     ]
    }
   ],
   "source": [
    "#! Tableau de donnees competences\n",
    "#! affiche le tableau des compétences\n",
    "\n",
    "# donnees competences secteurs de travail\n",
    "competencesSecteurs = competences[1]\n",
    "# out\n",
    "print(competencesSecteurs)\n",
    "p = f\"✅ Chargement des infos des [competencesSecteurs] de effectué\"\n",
    "print(p)\n",
    "# donnees competences notions\n",
    "competencesNotions = competences[2]\n",
    "# out\n",
    "print(competencesNotions)\n",
    "p = f\"✅ Chargement des infos des [competencesNotions] de effectué\"\n",
    "print(p)\n",
    "# donnees competences logiciels\n",
    "competencesLogiciels = competences[3]\n",
    "# out\n",
    "print(competencesLogiciels)\n",
    "p = f\"✅ Chargement des infos des [competencesLogiciels] de effectué\"\n",
    "print(p)\n",
    "# donnees competences langages de programmation\n",
    "competencesProgrammation = competences[4]\n",
    "# out\n",
    "print(competencesProgrammation)\n",
    "p = f\"✅ Chargement des infos des [competencesProgrammation] de effectué\"\n",
    "print(p)"
   ]
  },
  {
   "cell_type": "markdown",
   "metadata": {},
   "source": [
    "### 📄 Compétences "
   ]
  },
  {
   "cell_type": "code",
   "execution_count": 18,
   "metadata": {},
   "outputs": [
    {
     "name": "stdout",
     "output_type": "stream",
     "text": [
      "\n",
      "🔻 compétences\n",
      "experience - compétence\n",
      "[##########] Graphisme\n",
      "[##########] WebDesign\n",
      "[##########] Marketing\n",
      "[##########] ECommerce\n",
      "[##########] Develloper\n",
      "[##########] Gerant\n"
     ]
    }
   ],
   "source": [
    "#! secteurs de travail\n",
    "p = f\"\\n🔻 compétences\"\n",
    "print(p)\n",
    "p = f\"experience - compétence\"\n",
    "print(p)\n",
    "fCompetences(competencesSecteurs, 1)"
   ]
  },
  {
   "cell_type": "code",
   "execution_count": 19,
   "metadata": {},
   "outputs": [
    {
     "name": "stdout",
     "output_type": "stream",
     "text": [
      "\n",
      "🔻 Notions acquis\n",
      "experience - compétence\n",
      "[##########] Bureautique\n",
      "[##########] Informatique\n",
      "[##########] Webdesign\n",
      "[########  ] Graphisme\n",
      "[########  ] Marketing\n",
      "[########  ] Develloper\n",
      "[########  ] Communication\n",
      "[########  ] 3D\n",
      "[########  ] SEO\n",
      "[########  ] BigData\n",
      "[########  ] IntelligenceArtificielle\n",
      "[########  ] BusinessIntelligence\n",
      "[########  ] MachingLearning\n",
      "[########  ] DeepLearning\n"
     ]
    }
   ],
   "source": [
    "#! notions acquis\n",
    "p = f\"\\n🔻 Notions acquis\"\n",
    "print(p)\n",
    "p = f\"experience - compétence\"\n",
    "print(p)\n",
    "fCompetences(competencesNotions, 1)"
   ]
  },
  {
   "cell_type": "code",
   "execution_count": 20,
   "metadata": {},
   "outputs": [
    {
     "name": "stdout",
     "output_type": "stream",
     "text": [
      "\n",
      "🔻 logiciels métrisés\n",
      "experience - compétence\n",
      "[##########] SuiteOffice\n",
      "[########  ] SuiteAdobe\n",
      "[##########] NodePad++\n",
      "[##########] PHPMyAdmin\n",
      "[########  ] VS Code\n",
      "[########  ] Obsidian\n",
      "[########  ] PowerBI\n",
      "[########  ] NEO4J\n",
      "[########  ] vegas\n",
      "[#####     ] 3DSMAX\n",
      "[#####     ] Autocad\n",
      "[#####     ] Maya\n",
      "[#####     ] SketchUp\n"
     ]
    }
   ],
   "source": [
    "#! logiciels metrises\n",
    "p = f\"\\n🔻 logiciels métrisés\"\n",
    "print(p)\n",
    "p = f\"experience - compétence\"\n",
    "print(p)\n",
    "fCompetences(competencesLogiciels, 1)"
   ]
  },
  {
   "cell_type": "code",
   "execution_count": 21,
   "metadata": {},
   "outputs": [
    {
     "name": "stdout",
     "output_type": "stream",
     "text": [
      "\n",
      "🔻 languages de programmation acquis\n",
      "experience - compétence\n",
      "[##########] HTML\n",
      "[##########] CSS\n",
      "[##########] MARKDOWN\n",
      "[########  ] GIT\n",
      "[########  ] JS\n",
      "[########  ] TS\n",
      "[########  ] NODEJS\n",
      "[########  ] MONGODB\n",
      "[########  ] EXPRESS\n",
      "[########  ] REACT\n",
      "[########  ] VUE\n",
      "[########  ] ANGULAR\n",
      "[########  ] TYPESCRIPT\n",
      "[########  ] JSON\n",
      "[#####     ] JAVA\n",
      "[#####     ] C\n",
      "[#####     ] C++\n",
      "[#####     ] C#\n",
      "[########  ] PHP\n",
      "[########  ] SQL\n",
      "[########  ] PYTHON\n",
      "[#####     ] FLASK\n",
      "[#####     ] NUMPY\n",
      "[#####     ] PANDAS\n"
     ]
    }
   ],
   "source": [
    "#! languages de programmation acquis\n",
    "p = f\"\\n🔻 languages de programmation acquis\"\n",
    "print(p)\n",
    "p = f\"experience - compétence\"\n",
    "print(p)\n",
    "fCompetences(competencesProgrammation, 1)"
   ]
  },
  {
   "cell_type": "markdown",
   "metadata": {},
   "source": [
    "## 🗂️ Langues"
   ]
  },
  {
   "cell_type": "markdown",
   "metadata": {},
   "source": [
    "### 📅 TAB Data Langues"
   ]
  },
  {
   "cell_type": "code",
   "execution_count": 22,
   "metadata": {},
   "outputs": [
    {
     "name": "stdout",
     "output_type": "stream",
     "text": [
      "{'nomTable': 'langues parlées', 'Francais': 3, 'Anglais': 1, 'Neerlandais': 0, 'Espagnol': 0}\n",
      "✅ Chargement des infos des [competencesSecteurs] de effectué\n"
     ]
    }
   ],
   "source": [
    "#! Tableau de donnees langues\n",
    "#! affiche le tableau des langues\n",
    "\n",
    "# donnees langues\n",
    "langues = langues[1]\n",
    "# out\n",
    "print(langues)\n",
    "p = f\"✅ Chargement des infos des [competencesSecteurs] de effectué\"\n",
    "print(p)"
   ]
  },
  {
   "cell_type": "markdown",
   "metadata": {},
   "source": [
    "### 📑 Langues parlés"
   ]
  },
  {
   "cell_type": "code",
   "execution_count": 23,
   "metadata": {},
   "outputs": [
    {
     "name": "stdout",
     "output_type": "stream",
     "text": [
      "\n",
      "🔻 langues parlés\n",
      "experience - compétence\n",
      "[##########] Francais\n",
      "[#####     ] Anglais\n",
      "[          ] Neerlandais\n",
      "[          ] Espagnol\n"
     ]
    }
   ],
   "source": [
    "#! languages de programmation acquis\n",
    "p = f\"\\n🔻 langues parlés\"\n",
    "print(p)\n",
    "p = f\"experience - compétence\"\n",
    "print(p)\n",
    "fCompetences(langues, 0)"
   ]
  },
  {
   "cell_type": "markdown",
   "metadata": {},
   "source": [
    "## 🗂️ Formations"
   ]
  },
  {
   "cell_type": "code",
   "execution_count": 26,
   "metadata": {},
   "outputs": [
    {
     "name": "stdout",
     "output_type": "stream",
     "text": [
      "💼 Formations\n",
      "\n",
      "🔸 ST LUC DE MONS\n",
      "🔹 Collège ST Luc de Mons à  Mons - juin 2007\n",
      "🔹 Diplôme de l'Enseignement Secondaire Techniques Graphiques à Finalité Techniques Infographiques\n",
      "🔹 Formation au niveau secondaire mettant l'accent sur les compétences techniques liées aux domaines graphiques et infographiques tout au long du cursus, de la 5e à la 6e année. Les matières enseignées comprennent le graphisme, l'informatique, la religion catholique, l'éducation physique, les langues, les mathématiques et les sciences.\n",
      "\n",
      "🔸 ISIMS\n",
      "🔹 Institut Supérieur d'Industriel de Mons à  Mons - juin 2011\n",
      "🔹 Diplôme de l'Enseignement Supérieur Technique Type Court Techniques Graphiques à Finalité Techniques Infographiques\n",
      "🔹 Formation de niveau bachelier en Techniques Graphiques, avec une orientation spécifique sur les techniques infographiques, visant à travailler dans les domaines techniques et graphiques tels que l'impression (affiches, brochures, packaging, etc.), la modélisation 3D (paramétrique, directe et organique), le développement Web (design et programmation), ainsi que l'animation.\n",
      "\n",
      "🔸 INNOVATION CENTER NEGUNDO\n",
      "🔹 Centre d'Innovation Center Negundo à  Tournai - février 2012\n",
      "🔹 Web Designer Concepteur d'Interfaces Graphiques dans l'E-Commerce Certificat E-Commerce\n",
      "🔹 Formation qualifiante axée sur le secteur du E-Commerce qui se concentre sur le développement des compétences professionnelles nécessaires pour devenir un web designer compétent, en mettant particulièrement l'accent sur la conception ergonomique (UX), le marketing web, et la création d'interfaces graphiques complexes (UI).\n",
      "\n",
      "🔸 TECHNOCITÉ HORNU\n",
      "🔹 Centre de formation Technocité Chateau Degorge à  Hornu - novembre 2023\n",
      "🔹 Web Develloper Concepteur d'Interfaces Graphiques et d'Applications dans l'Intelligence Artificielle Certificat Devellopeur Web Intelligence Artificielle\n",
      "🔹 Formation axée sur la technologie web et les intelligences artificielles mettant  +l'accent sur l'acquisition de compétences en programmation, notamment en langages JavaScript et Python, fondamentaux en IA, les principes du Deep Learning et du Machine Learning, ainsi que la gestion de bases de données, afin de devenir un professionnel compétent dans le domaine de l'intelligence artificielle.\n"
     ]
    }
   ],
   "source": [
    "#! formations\n",
    "#! affiche la liste des formations\n",
    "\n",
    "# compteur\n",
    "i = 0\n",
    "\n",
    "# todo>> libélé\n",
    "p = f\"💼 Formations\"\n",
    "print(p)\n",
    "\n",
    "# todo>> liste des formations\n",
    "# pour afficher la paitre cle - valeur on utilisera item().\n",
    "# La fonction isinstance() en Python est utilisée pour vérifier si un objet est une instance d'une classe donnée.\n",
    "for formation in formations:\n",
    "    if i!=0 :\n",
    "        # todo>> 📄 nom centre formation\n",
    "        # upper() permet de transformer les caractères en majuscules\n",
    "        centre = formation[\"centreFormation\"].upper()\n",
    "        p = f\"\\n🔸 {centre}\"\n",
    "        print(p)\n",
    "\n",
    "        # todo>> 📄 description centre formation\n",
    "        # description centre\n",
    "        centreDesc = formation[\"centreFormationDesc\"]\n",
    "        # lieu de la formation\n",
    "        ville = formation[\"ville\"]\n",
    "        # date de fin formation\n",
    "        date = fDateMA(formation[\"dateFin\"])\n",
    "        # out\n",
    "        p = f\"🔹 {centreDesc} à  {ville} - {date}\"\n",
    "        print(p)\n",
    "\n",
    "        # todo>> 📄 diplome type\n",
    "        diplomeNom = formation[\"diplomeNom\"]\n",
    "        diplomeType = formation[\"diplomeType\"]\n",
    "        p = f\"🔹 {diplomeType} {diplomeNom}\"\n",
    "        print(p)\n",
    "\n",
    "        # todo>> 📄 diplome description\n",
    "        diplomeDesc = formation[\"description\"]\n",
    "        p = f\"🔹 {diplomeDesc}\"\n",
    "        print(p)\n",
    "        \n",
    "    i = i + 1"
   ]
  },
  {
   "cell_type": "markdown",
   "metadata": {},
   "source": [
    "## 🗂️ Experiences professionnelles"
   ]
  },
  {
   "cell_type": "code",
   "execution_count": 27,
   "metadata": {},
   "outputs": [
    {
     "name": "stdout",
     "output_type": "stream",
     "text": [
      "💼 Experiences professionnelles\n",
      "\n",
      "🔸 COLLABORATEUR ADMINISTRATIF JOBETUDIANT\n",
      "🔹 Ministere de l'Intérieur\n",
      "🔹 juin 2007 à septembre 2009\n",
      "🔹 Job étudiant à Bruxelles (Juillet 2007 - Août2008 - Juillet 2009)\n",
      "🔹 Fournir un support technique afin d'assurer la maintenance matérielle, gérer des logiciels et des réseaux, contribuer à la sécurité informatique et participer à la gestion de projets\n",
      "\n",
      "🔸 INFOGRAPHISTE\n",
      "🔹 TopBlind\n",
      "🔹 avril 2012 à septembre 2014\n",
      "🔹 Infographiste à Bruxelles (Juillet 2012 - Août 2014)\n",
      "🔹 Créer des éléments visuels tels que des logos, des illustrations et des mises en page pour divers supports, qu'ils soient imprimés ou numériques. Collaborer avec d'autres professionnels, respecter les délais et communiquer efficacement avec les clients pour assurer la réalisation de projets graphiques. Gestion des aspects techniques de la conception, la veille technologique et la création d'interfaces utilisateur, le tout dans le but de produire des designs attrayants et fonctionnels.\n",
      "\n",
      "🔸 GÉRANT DE MAGASIN\n",
      "🔹 TrocHoreca\n",
      "🔹 juillet 2016 à mars 2019\n",
      "🔹 Gérant de magasin à Bruxelles (Juillet 2016 - Juillet 2019)\n",
      "🔹 Le gérant de magasin dans le secteur des machines Horeca assurant la supervision des stocks, des ventes et de l'équipe. Coordonnant la maintenance et le service après-vente, tout en gérant les finances et en mettant en place des initiatives de marketing local pour assurer le succès commercial de l'entreprise. En parallèle, responsable de communication et responsable graphique se consacrant à la création projets graphiques attrayantes, de visuels et de supports marketing visant à promouvoir les machines Horeca, renforçant ainsi la présence et l'image de la marque sur le marché.\n",
      "\n",
      "🔸 CHAUFFEUR VTC\n",
      "🔹 Evian Resort Golf Club\n",
      "🔹 juillet 2019 à juillet 2019\n",
      "🔹 Chauffeur VTC à Evian-Les-Bains (Juillet 2019)\n",
      "🔹 Transport sécurisé et confortable de clients vers leurs destinations, l'accueil professionnel des clients, une connaissance approfondie des itinéraires locaux, l'entretien du véhicule, le respect des réglementations locales, la discrétion et la confidentialité, un service client de haute qualité, l'aide avec les bagages, la communication avec la réception pour la coordination des transferts, la gestion des imprévus et une présentation soignée.\n",
      "\n",
      "🔸 PRÉPARATEUR DE COMMANDES\n",
      "🔹 Carrefour Market - SEDIS Logistics - Cophana\n",
      "🔹 juillet 2019 à février 2023\n",
      "🔹 préparateur de commandes à Evian-Les-Bains, à Tournai, à la Louvière (Juillet 2019 - Juillet 2023)\n",
      "🔹 Responsable de la préparation, de la collecte, de l'emballage et de l'expédition des produits commandés. Les tâches comprennent également la vérification de l'inventaire, l'étiquetage, le chargement des camions, la tenue de dossiers précis, le respect des délais de livraison, l'utilisation d'équipement de manutention, la communication en équipe, le respect des règles de sécurité, et la participation aux comptages d'inventaire. Assurer une exécution efficace et précise des commandes tout en maintenant la sécurité et l'organisation de l'entrepôt.\n"
     ]
    }
   ],
   "source": [
    "#! experiences professionnelles\n",
    "#! affiche la liste des experiences professionnelles\n",
    "\n",
    "# compteur\n",
    "i = 0\n",
    "\n",
    "# todo>> libélé\n",
    "p = f\"💼 Experiences professionnelles\"\n",
    "print(p)\n",
    "\n",
    "# todo>> liste des formations\n",
    "# pour afficher la paitre cle - valeur on utilisera item().\n",
    "# La fonction isinstance() en Python est utilisée pour vérifier si un objet est une instance d'une classe donnée.\n",
    "for travail in experiences:\n",
    "    if i!=0 :\n",
    "        # todo>> 📄 poste\n",
    "        # upper() permet de transformer les caractères en majuscules\n",
    "        poste = travail[\"poste\"].upper()\n",
    "        p = f\"\\n🔸 {poste}\"\n",
    "        print(p)\n",
    "\n",
    "        # todo>> 📄 entreprise\n",
    "        # compteur\n",
    "        j = 1\n",
    "        # verificateur\n",
    "        true = 0\n",
    "        # nom des entreprises\n",
    "        nomsEntreprises = \"\"\n",
    "        # liste de tous les entreprises\n",
    "        while true == 0 :\n",
    "            if j == 1 :\n",
    "                entreprise = f\"entreprise\"\n",
    "                entreprise = travail[entreprise]\n",
    "            else :\n",
    "                # defini l'entreprise\n",
    "                entreprise = f\"entreprise{j}\"\n",
    "                # verifie si l'entreprise existe\n",
    "                try : entreprise = travail[entreprise]\n",
    "                except KeyError : true = 1\n",
    "            # out\n",
    "            if true == 0 :\n",
    "                if j == 1 :\n",
    "                    nomsEntreprises = f\"🔹 {entreprise}\"\n",
    "                else :\n",
    "                    nomsEntreprises = f\"{nomsEntreprises} - {entreprise}\"   \n",
    "            j = j + 1\n",
    "        # out\n",
    "        print(nomsEntreprises)    \n",
    "\n",
    "        # todo>> 📄 dates\n",
    "        # date de début\n",
    "        dateDebut = fDateMA(travail[\"dateDebut\"])\n",
    "        # date de fin\n",
    "        dateFin = fDateMA(travail[\"dateFin\"])\n",
    "        # out\n",
    "        p = f\"🔹 {dateDebut} à {dateFin}\"\n",
    "        print(p)\n",
    "\n",
    "        # todo>> 📄 description\n",
    "        description = travail[\"description\"]\n",
    "        p = f\"🔹 {description}\"\n",
    "        print(p)\n",
    "        \n",
    "        # todo>> 📄 taches\n",
    "        taches = travail[\"taches\"]\n",
    "        p = f\"🔹 {taches}\"\n",
    "        print(p)\n",
    "    i = i + 1"
   ]
  }
 ],
 "metadata": {
  "kernelspec": {
   "display_name": "Python 3",
   "language": "python",
   "name": "python3"
  },
  "language_info": {
   "codemirror_mode": {
    "name": "ipython",
    "version": 3
   },
   "file_extension": ".py",
   "mimetype": "text/x-python",
   "name": "python",
   "nbconvert_exporter": "python",
   "pygments_lexer": "ipython3",
   "version": "3.11.4"
  }
 },
 "nbformat": 4,
 "nbformat_minor": 2
}
