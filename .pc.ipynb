{
 "cells": [
  {
   "cell_type": "markdown",
   "metadata": {},
   "source": [
    "# 💾 INSTALLATIONS PC"
   ]
  },
  {
   "cell_type": "markdown",
   "metadata": {},
   "source": [
    "*Fichier de vérification des installations des programmes sur le pc nécessaire au bon fonctionnement des applications web sur les serveurs*"
   ]
  },
  {
   "cell_type": "markdown",
   "metadata": {},
   "source": [
    "## ⚙️ SYSTEME FILE"
   ]
  },
  {
   "cell_type": "markdown",
   "metadata": {},
   "source": [
    "### 💿 REQUIRES"
   ]
  },
  {
   "cell_type": "code",
   "execution_count": 1,
   "metadata": {},
   "outputs": [
    {
     "name": "stdout",
     "output_type": "stream",
     "text": [
      "⚙️ Importations requises\n",
      "✅ SYS importé\n",
      "✅ REQUESTS importé\n",
      "✅ SUBPROCESS importé\n",
      "⏏️\n"
     ]
    }
   ],
   "source": [
    "#! REQUIRES\n",
    "p = f\"⚙️ Importations requises\"\n",
    "print(p)\n",
    "\n",
    "#! sys\n",
    "#? sys en Python est un des nombreux modules intégrés que vous pouvez utiliser sans avoir besoin de l'installer séparément. Il fournit des fonctions et des variables utilisées pour manipuler différentes parties de l'environnement d'exécution de Python.\n",
    "try:\n",
    "    # importation de sys\n",
    "    import sys\n",
    "\n",
    "    # todo>> importé\n",
    "    p = f\"✅ SYS importé\"\n",
    "    print(p)\n",
    "\n",
    "except Exception as e:\n",
    "    # todo>> erreur\n",
    "    p = f\"📛 ERREUR\"\n",
    "    p = f\"{p} : {e}\"\n",
    "    print(p)\n",
    "    \n",
    "    # todo>> echec\n",
    "    p = f\"❌ echec de l'importation de sys\"\n",
    "    print(p)\n",
    "\n",
    "#! requests\n",
    "#? requests est une bibliothèque Python très populaire utilisée pour envoyer des requêtes HTTP de manière simple et conviviale. Elle est largement utilisée pour interagir avec des API web ou pour télécharger du contenu depuis le web.\n",
    "try:\n",
    "    # importation de requests\n",
    "    import requests\n",
    "\n",
    "    # todo>> importé\n",
    "    p = f\"✅ REQUESTS importé\"\n",
    "    print(p)\n",
    "\n",
    "except Exception as e:\n",
    "    # todo>> erreur\n",
    "    p = f\"📛 ERREUR\"\n",
    "    p = f\"{p} : {e}\"\n",
    "    print(p)\n",
    "    \n",
    "    # todo>> echec\n",
    "    p = f\"❌ echec de l'importation de requests\"\n",
    "    print(p)\n",
    "\n",
    "#! subrocess\n",
    "#? il est indispensable d'importer subprocess afin de tester si les bibliothèques sont installées dans le système\n",
    "try:\n",
    "    # importation de subprocess\n",
    "    import subprocess\n",
    "\n",
    "    # todo>> installé\n",
    "    p = f\"✅ SUBPROCESS importé\"\n",
    "    print(p)\n",
    "\n",
    "except Exception as e:\n",
    "    # todo>> erreur\n",
    "    p = f\"📛 ERREUR\"\n",
    "    p = f\"{p} : {e}\"\n",
    "    print(p)\n",
    "\n",
    "    # todo>> echec\n",
    "    p = f\"❌ echec de l'importation de requests\"\n",
    "    print(p)\n",
    "\n",
    "# end\n",
    "p = f\"⏏️\"\n",
    "print(p)"
   ]
  },
  {
   "cell_type": "markdown",
   "metadata": {},
   "source": [
    "### 📀 PYTHON"
   ]
  },
  {
   "cell_type": "markdown",
   "metadata": {},
   "source": [
    "[🤖]()\n",
    "><span style=\"color:#ddb;\">**python**</span> \n",
    "> est un langage de programmation de haut niveau polyvalent, populaire et largement utilisé dans le développement de logiciels, l'analyse de données, l'apprentissage automatique, l'automatisation de tâches, et bien d'autres domaines. "
   ]
  },
  {
   "cell_type": "code",
   "execution_count": 2,
   "metadata": {},
   "outputs": [
    {
     "name": "stdout",
     "output_type": "stream",
     "text": [
      "✳️ python version 3.11.4\n",
      "⏏️\n"
     ]
    }
   ],
   "source": [
    "#! PYTHON VERSION\n",
    "#! affiche la version de python\n",
    "try:\n",
    "    # version actuelle de python\n",
    "    # affiche que le numéro de la version\n",
    "    vesrionPython = sys.version.split()[0]\n",
    "    out = vesrionPython\n",
    "\n",
    "    # todo>> version\n",
    "    p = f\"✳️ python version {out}\"\n",
    "    print(p)\n",
    "\n",
    "    # end\n",
    "    p = f\"⏏️\"\n",
    "    print(p)\n",
    "    \n",
    "except Exception as e:\n",
    "    # todo>> erreur\n",
    "    p = f\"📛 ERREUR\"\n",
    "    p = f\"{p} : {e}\"\n",
    "    print(p)\n",
    "    \n",
    "    # todo>> echec\n",
    "    p = f\"❌ echec de l'affichage de la version de python\"\n",
    "    print(p)"
   ]
  },
  {
   "cell_type": "markdown",
   "metadata": {},
   "source": [
    "### 📑 PACKAGES PYTHON"
   ]
  },
  {
   "cell_type": "code",
   "execution_count": 3,
   "metadata": {},
   "outputs": [
    {
     "name": "stdout",
     "output_type": "stream",
     "text": [
      "Package                   Version\n",
      "------------------------- ------------\n",
      "annotated-types           0.5.0\n",
      "anyio                     4.0.0\n",
      "argon2-cffi               23.1.0\n",
      "argon2-cffi-bindings      21.2.0\n",
      "arrow                     1.3.0\n",
      "asttokens                 2.4.1\n",
      "async-lru                 2.0.4\n",
      "attrs                     23.1.0\n",
      "Babel                     2.13.1\n",
      "backcall                  0.2.0\n",
      "beautifulsoup4            4.12.2\n",
      "bleach                    6.1.0\n",
      "blinker                   1.6.2\n",
      "cachelib                  0.10.2\n",
      "certifi                   2023.7.22\n",
      "cffi                      1.16.0\n",
      "charset-normalizer        3.3.1\n",
      "click                     8.1.7\n",
      "colorama                  0.4.6\n",
      "comm                      0.1.4\n",
      "contourpy                 1.1.0\n",
      "cycler                    0.11.0\n",
      "debugpy                   1.8.0\n",
      "decorator                 5.1.1\n",
      "defusedxml                0.7.1\n",
      "Deprecated                1.2.14\n",
      "distlib                   0.3.7\n",
      "executing                 2.0.0\n",
      "fastjsonschema            2.18.1\n",
      "filelock                  3.12.4\n",
      "Flask                     2.3.3\n",
      "Flask-Cors                4.0.0\n",
      "Flask-Limiter             3.5.0\n",
      "Flask-Script              2.0.6\n",
      "Flask-Uploads             0.2.1\n",
      "Flask-WTF                 1.2.1\n",
      "fonttools                 4.42.1\n",
      "fqdn                      1.5.1\n",
      "htmlmin                   0.1.12\n",
      "idna                      3.4\n",
      "ImageHash                 4.3.1\n",
      "importlib-resources       6.1.1\n",
      "ipykernel                 6.26.0\n",
      "ipython                   8.16.1\n",
      "ipython-genutils          0.2.0\n",
      "ipywidgets                8.1.1\n",
      "isoduration               20.11.0\n",
      "itsdangerous              2.1.2\n",
      "jedi                      0.19.1\n",
      "Jinja2                    3.1.2\n",
      "joblib                    1.1.1\n",
      "json5                     0.9.14\n",
      "jsonpointer               2.4\n",
      "jsonschema                4.19.1\n",
      "jsonschema-specifications 2023.7.1\n",
      "jupyter                   1.0.0\n",
      "jupyter_client            8.5.0\n",
      "jupyter-console           6.6.3\n",
      "jupyter_core              5.4.0\n",
      "jupyter-events            0.8.0\n",
      "jupyter-lsp               2.2.0\n",
      "jupyter_server            2.9.1\n",
      "jupyter_server_terminals  0.4.4\n",
      "jupyterlab                4.0.7\n",
      "jupyterlab-pygments       0.2.2\n",
      "jupyterlab_server         2.25.0\n",
      "jupyterlab-widgets        3.0.9\n",
      "kiwisolver                1.4.5\n",
      "limits                    3.7.0\n",
      "markdown-it-py            3.0.0\n",
      "MarkupSafe                2.1.3\n",
      "matplotlib                3.7.3\n",
      "matplotlib-inline         0.1.6\n",
      "mdurl                     0.1.2\n",
      "missingno                 0.5.2\n",
      "mistune                   3.0.2\n",
      "multimethod               1.9.1\n",
      "mysql-connector-python    8.2.0\n",
      "nbclient                  0.8.0\n",
      "nbconvert                 7.9.2\n",
      "nbformat                  5.9.2\n",
      "nest-asyncio              1.5.8\n",
      "networkx                  3.1\n",
      "notebook                  7.0.6\n",
      "notebook_shim             0.2.3\n",
      "numpy                     1.25.2\n",
      "ordered-set               4.1.0\n",
      "overrides                 7.4.0\n",
      "packaging                 23.2\n",
      "pandas                    2.1.0\n",
      "pandas-profiling          3.2.0\n",
      "pandocfilters             1.5.0\n",
      "parso                     0.8.3\n",
      "phik                      0.12.3\n",
      "pickleshare               0.7.5\n",
      "Pillow                    10.0.0\n",
      "pip                       23.2.1\n",
      "platformdirs              3.11.0\n",
      "prometheus-client         0.17.1\n",
      "prompt-toolkit            3.0.39\n",
      "protobuf                  4.21.12\n",
      "psutil                    5.9.6\n",
      "pure-eval                 0.2.2\n",
      "pycparser                 2.21\n",
      "pydantic                  2.3.0\n",
      "pydantic_core             2.6.3\n",
      "Pygments                  2.16.1\n",
      "pyparsing                 3.1.1\n",
      "python-dateutil           2.8.2\n",
      "python-json-logger        2.0.7\n",
      "pytz                      2023.3.post1\n",
      "PyWavelets                1.4.1\n",
      "pywin32                   306\n",
      "pywinpty                  2.0.12\n",
      "PyYAML                    6.0.1\n",
      "pyzmq                     25.1.1\n",
      "qtconsole                 5.4.4\n",
      "QtPy                      2.4.1\n",
      "referencing               0.30.2\n",
      "requests                  2.31.0\n",
      "rfc3339-validator         0.1.4\n",
      "rfc3986-validator         0.1.1\n",
      "rich                      13.7.0\n",
      "rpds-py                   0.10.6\n",
      "scikit-learn              1.3.2\n",
      "scipy                     1.11.2\n",
      "seaborn                   0.12.2\n",
      "Send2Trash                1.8.2\n",
      "setuptools                68.2.2\n",
      "six                       1.16.0\n",
      "sniffio                   1.3.0\n",
      "soupsieve                 2.5\n",
      "stack-data                0.6.3\n",
      "sweetviz                  2.3.0\n",
      "tangled-up-in-unicode     0.2.0\n",
      "termcolor                 2.3.0\n",
      "terminado                 0.17.1\n",
      "threadpoolctl             3.2.0\n",
      "tinycss2                  1.2.1\n",
      "tornado                   6.3.3\n",
      "tqdm                      4.66.1\n",
      "traitlets                 5.12.0\n",
      "types-python-dateutil     2.8.19.14\n",
      "typing_extensions         4.8.0\n",
      "tzdata                    2023.3\n",
      "ucimlrepo                 0.0.3\n",
      "uri-template              1.3.0\n",
      "urllib3                   2.0.7\n",
      "visions                   0.7.4\n",
      "wcwidth                   0.2.8\n",
      "webcolors                 1.13\n",
      "webencodings              0.5.1\n",
      "websocket-client          1.6.4\n",
      "Werkzeug                  2.3.7\n",
      "widgetsnbextension        4.0.9\n",
      "wrapt                     1.16.0\n",
      "WTForms                   3.1.1\n"
     ]
    },
    {
     "name": "stderr",
     "output_type": "stream",
     "text": [
      "\n",
      "[notice] A new release of pip is available: 23.2.1 -> 23.3.2\n",
      "[notice] To update, run: python.exe -m pip install --upgrade pip\n"
     ]
    }
   ],
   "source": [
    "#! PACKAGES PYTHON\n",
    "try :\n",
    "    # todo>> affichage de la liste des packages de python\n",
    "    ! pip list\n",
    "\n",
    "except Exception as e:\n",
    "    # todo>> erreur\n",
    "    p = f\"📛 ERREUR\"\n",
    "    p = f\"{p} : {e}\"\n",
    "    print(p)\n",
    "\n",
    "    # todo>> echec\n",
    "    p = f\"❌ echec de l'affichage de la liste des package python\"\n",
    "    print(p)"
   ]
  },
  {
   "cell_type": "markdown",
   "metadata": {},
   "source": [
    "## 💽 SETUPTOOLS"
   ]
  },
  {
   "cell_type": "markdown",
   "metadata": {},
   "source": [
    "[🤖]()\n",
    "> <span style=\"color:#ddb;\">**setuptools**</span>\n",
    "> est une bibliothèque Python conçue pour faciliter l'empaquetage des projets Python. C'est un outil de développement qui fournit un ensemble de commandes et de fonctionnalités pour aider les développeurs à créer, distribuer et installer des modules Python facilement."
   ]
  },
  {
   "cell_type": "code",
   "execution_count": 4,
   "metadata": {},
   "outputs": [
    {
     "name": "stdout",
     "output_type": "stream",
     "text": [
      "✅ SETUPTOOLS INSTALLE\n",
      "✳️ setuptools version 68.2.2\n",
      "⏏️\n"
     ]
    }
   ],
   "source": [
    "#! SETUPTOOLS\n",
    "#! verifie si setuptools est installé\n",
    "try:\n",
    "    # importation de setuptools\n",
    "    import setuptools\n",
    "\n",
    "    # version de setuptools\n",
    "    vesrionSetuptools = setuptools.__version__\n",
    "    out = vesrionSetuptools\n",
    "\n",
    "    # todo>> installé\n",
    "    p = f\"✅ SETUPTOOLS INSTALLE\"\n",
    "    print(p)\n",
    "    p = f\"✳️ setuptools version {out}\"\n",
    "    print(p)\n",
    "    p = f\"⏏️\"\n",
    "    print(p)\n",
    "\n",
    "except Exception as e:\n",
    "    # todo>> erreur\n",
    "    p = f\"📛 ERREUR\"\n",
    "    p = f\"{p} : {e}\"\n",
    "    print(p)\n",
    "    \n",
    "    # todo>> installation\n",
    "    p = f\"⚠️ INSTALLATION DE PYTHON REQUIS\"\n",
    "    print(p)\n",
    "    p = f\"📛 pkg ressources est une bibliotheque de Python.\"\n",
    "    print(p)\n",
    "    p = f\"veuillez télécharger la dernière version de Python https://www.python.org/downloads/ et téléchargez la dernière version de Python pour Windows. Assurez-vous de choisir la version la plus récente compatible avec votre système (32 bits ou 64 bits).\"\n",
    "    print(p)"
   ]
  },
  {
   "cell_type": "markdown",
   "metadata": {},
   "source": [
    "## 💽 JSON"
   ]
  },
  {
   "cell_type": "markdown",
   "metadata": {},
   "source": [
    "[🤖]()\n",
    "><span style=\"color:#ddb;\">**json**</span>\n",
    "> qui signifie \"JavaScript Object Notation\", est un format de données léger et largement utilisé pour représenter et échanger des données structurées entre des systèmes différents. Il est basé sur une syntaxe de texte lisible par l'homme et est facile à comprendre et à générer pour les humains, tout en étant également facile à analyser et à générer pour les machines. JSON est largement utilisé dans le développement web et dans de nombreuses applications pour transférer des données entre un serveur et un client, stocker des configurations, des données de base de données et bien plus encore."
   ]
  },
  {
   "cell_type": "code",
   "execution_count": 7,
   "metadata": {},
   "outputs": [
    {
     "name": "stdout",
     "output_type": "stream",
     "text": [
      "✅ JSON INSTALLE\n",
      "✳️ json est une bibliotheque standard de Python version 3.11.4\n",
      "⏏️\n"
     ]
    }
   ],
   "source": [
    "#! JSON\n",
    "#! verifie si json est installé\n",
    "try:\n",
    "    # importation de json\n",
    "    import json\n",
    "\n",
    "    # todo>> installé\n",
    "    p = f\"✅ JSON INSTALLE\"\n",
    "    print(p)\n",
    "    p = f\"✳️ json est une bibliotheque standard de Python version {vesrionPython}\"\n",
    "    print(p)\n",
    "\n",
    "    # end\n",
    "    p = f\"⏏️\"\n",
    "    print(p)\n",
    "    \n",
    "except Exception as e:\n",
    "    # todo>> erreur\n",
    "    p = f\"📛 ERREUR\"\n",
    "    p = f\"{p} : {e}\"\n",
    "    print(p)\n",
    "\n",
    "    # todo>> installation\n",
    "    p = f\"⚠️ INSTALLATION DE PYTHON REQUISE\"\n",
    "    print(p)\n",
    "    p = f\"📛 json est une bibliotheque de Python.\"\n",
    "    print(p)\n",
    "    p = f\"veuillez télécharger la dernière version de Python https://www.python.org/downloads/ et téléchargez la dernière version de Python pour Windows. Assurez-vous de choisir la version la plus récente compatible avec votre système (32 bits ou 64 bits).\"\n",
    "    print(p)"
   ]
  },
  {
   "cell_type": "markdown",
   "metadata": {},
   "source": [
    "## 💽 SUBPROCESS"
   ]
  },
  {
   "cell_type": "markdown",
   "metadata": {},
   "source": [
    "[🤖]()\n",
    "><span style=\"color:#ddb;\">**subprocess**</span> \n",
    "> permet d'exécuter des commandes système à partir de votre programme Python. Vous pouvez l'utiliser pour lancer des programmes, exécuter des commandes système et gérer les entrées/sorties."
   ]
  },
  {
   "cell_type": "code",
   "execution_count": 8,
   "metadata": {},
   "outputs": [
    {
     "name": "stdout",
     "output_type": "stream",
     "text": [
      "✅ SUBPROCESS INSTALLE\n",
      "✳️ subprocess est une bibliotheque de Python.\n",
      "✳️ python version 3.11.4\n",
      "⏏️\n"
     ]
    }
   ],
   "source": [
    "#! SUBPROCESS\n",
    "#! verifie si subprocess est installé\n",
    "try:\n",
    "    # importation de subprocess\n",
    "    import subprocess\n",
    "\n",
    "    # todo>> installé\n",
    "    p = f\"✅ SUBPROCESS INSTALLE\"\n",
    "    print(p)\n",
    "    p = f\"✳️ subprocess est une bibliotheque de Python.\"\n",
    "    print(p)\n",
    "    p = f\"✳️ python version {vesrionPython}\"\n",
    "    print(p)\n",
    "\n",
    "    # end\n",
    "    p = f\"⏏️\"\n",
    "    print(p)\n",
    "\n",
    "except Exception as e:\n",
    "    # todo>> erreur\n",
    "    p = f\"📛 ERREUR\"\n",
    "    p = f\"{p} : {e}\"\n",
    "    print(p)\n",
    "    \n",
    "    # todo>> installation\n",
    "    p = f\"⚠️ INSTALLATION DE PYTHON REQUIS\"\n",
    "    print(p)\n",
    "    p = f\"📛 subprocess est une bibliotheque de Python.\"\n",
    "    print(p)\n",
    "    p = f\"veuillez télécharger la dernière version de Python https://www.python.org/downloads/ et téléchargez la dernière version de Python pour Windows. Assurez-vous de choisir la version la plus récente compatible avec votre système (32 bits ou 64 bits).\"\n",
    "    print(p)"
   ]
  },
  {
   "cell_type": "markdown",
   "metadata": {},
   "source": [
    "## 💽 TERMCOLOR"
   ]
  },
  {
   "cell_type": "markdown",
   "metadata": {},
   "source": [
    "[🤖]()\n",
    "> <span style=\"color:#ddb;\">**termcolor**</span>\n",
    "> est une bibliothèque Python qui permet de colorer le texte dans la console. Vous pouvez l'utiliser pour rendre le texte plus lisible ou pour ajouter un style visuel à votre interface en ligne de commande.\n",
    "\n",
    "> <span style=\"color:#ddb;\">**colored**</span>\n",
    "> est une bibliothèque tierce qui permet de styliser et de colorer le texte imprimé dans la console. Cela peut être utile pour rendre les messages plus visuels, ajouter des couleurs pour mettre en évidence certaines informations, ou simplement améliorer la lisibilité de la sortie console de votre programme.\n",
    "\n",
    "> <span style=\"color:red;\">**! attention**</span><br>\n",
    "> il est important de mettre les couleurs via une variable autre que celle des données. La mise en couleur peut affecter une variable. Ainsi on  évite de faire des bugs liées à la mise en forme de la variable."
   ]
  },
  {
   "cell_type": "code",
   "execution_count": 9,
   "metadata": {},
   "outputs": [
    {
     "name": "stdout",
     "output_type": "stream",
     "text": [
      "✅ TERMCOLOR INSTALLE\n",
      "✳️ termcolor version 2.3.0\n",
      "⏏️\n"
     ]
    }
   ],
   "source": [
    "#! TERMCOLOR\n",
    "#! verifie si termcolor est installé\n",
    "try:\n",
    "    # importation de termcolor\n",
    "    import termcolor\n",
    "    \n",
    "    # version de termcolor\n",
    "    out = pkg_resources.get_distribution(\"termcolor\").version\n",
    "\n",
    "    # todo>> installé\n",
    "    p = f\"✅ TERMCOLOR INSTALLE\"\n",
    "    print(p)\n",
    "    p = f\"✳️ termcolor version {out}\"\n",
    "    print(p)\n",
    "\n",
    "    # end\n",
    "    p = f\"⏏️\"\n",
    "    print(p)\n",
    "\n",
    "except Exception as e:\n",
    "    # todo>> erreur\n",
    "    p = f\"📛 ERREUR\"\n",
    "    p = f\"{p} : {e}\"\n",
    "    print(p)\n",
    "    \n",
    "    # todo>> installation\n",
    "    p = f\"⚠️ INSTALLATION DE TERMCOLOR\"\n",
    "    print(p)\n",
    "    ! pip install termcolor\n",
    "    p = f\"☑️ installation terminé\"\n",
    "    print(p)"
   ]
  },
  {
   "cell_type": "markdown",
   "metadata": {},
   "source": [
    "## 💽 NUMPY\n"
   ]
  },
  {
   "cell_type": "markdown",
   "metadata": {},
   "source": [
    "[🤖]()\n",
    "> <span style=\"color:#ddb;\">**numpy**</span>\n",
    "> est une bibliothèque open-source très populaire en Python qui fournit des structures de données et des fonctions pour travailler efficacement avec des tableaux multidimensionnels, des matrices et des calculs numériques. Elle est largement utilisée dans le domaine de la science des données, de l'apprentissage automatique, de l'analyse numérique et d'autres domaines scientifiques et techniques."
   ]
  },
  {
   "cell_type": "code",
   "execution_count": 10,
   "metadata": {},
   "outputs": [
    {
     "name": "stdout",
     "output_type": "stream",
     "text": [
      "✅ NUMPY INSTALLE\n",
      "✳️ numpy version 1.25.2\n",
      "⏏️\n"
     ]
    }
   ],
   "source": [
    "#! install numpy\n",
    "#! verifie si numpy est installé\n",
    "try:\n",
    "    # importation de numpy\n",
    "    import numpy as np\n",
    "\n",
    "    # version de numpy\n",
    "    out = np.__version__\n",
    "\n",
    "    # todo>>\n",
    "    p = f\"✅ NUMPY INSTALLE\"\n",
    "    print(p)\n",
    "    p = f\"✳️ numpy version {out}\"\n",
    "    print(p)\n",
    "\n",
    "    # end\n",
    "    p = f\"⏏️\"\n",
    "    print(p)\n",
    "\n",
    "except Exception as e:\n",
    "    p = f\"📛 ERREUR\"\n",
    "    p = f\"{p} : {e}\"\n",
    "    print(p)\n",
    "    \n",
    "    # todo>>\n",
    "    p = f\"⚠️ INSTALLATION DE NUMPY\"\n",
    "    print(p)\n",
    "    ! pip install numpy\n",
    "    p = f\"☑️ installation terminé\"\n",
    "    print(p)"
   ]
  },
  {
   "cell_type": "markdown",
   "metadata": {},
   "source": [
    "## 💽 PANDAS\n"
   ]
  },
  {
   "cell_type": "markdown",
   "metadata": {},
   "source": [
    "[🤖]()\n",
    "> <span style=\"color:#ddb;\">**pandas**</span>\n",
    "> est une bibliothèque open-source populaire en Python utilisée pour la manipulation et l'analyse de données. Elle fournit des structures de données et des fonctions permettant de travailler efficacement avec des données tabulaires, notamment des tableaux ou des feuilles de calcul, comme celles que l'on trouve couramment dans les bases de données, les fichiers CSV (Comma-Separated Values) ou les feuilles Excel."
   ]
  },
  {
   "cell_type": "code",
   "execution_count": 11,
   "metadata": {},
   "outputs": [
    {
     "name": "stdout",
     "output_type": "stream",
     "text": [
      "✅ PANDAS INSTALLE\n",
      "✳️ pandas version 2.1.0\n",
      "⏏️\n"
     ]
    }
   ],
   "source": [
    "#! install pandas\n",
    "#! verifie si pandas est installé\n",
    "try:\n",
    "    # importation de pandas\n",
    "    import pandas as pd\n",
    "\n",
    "    # version de pandas\n",
    "    out = pd.__version__\n",
    "\n",
    "    # todo>> installé\n",
    "    p = f\"✅ PANDAS INSTALLE\"\n",
    "    print(p)\n",
    "    p = f\"✳️ pandas version {out}\"\n",
    "    print(p)\n",
    "\n",
    "    # end\n",
    "    p = f\"⏏️\"\n",
    "    print(p)\n",
    "\n",
    "except Exception as e:\n",
    "    # todo>> erreur\n",
    "    p = f\"📛 ERREUR\"\n",
    "    p = f\"{p} : {e}\"\n",
    "    print(p)\n",
    "    \n",
    "    # todo>> installation\n",
    "    p = f\"⚠️ INSTALLATION DE PANDAS\"\n",
    "    print(p)\n",
    "    ! pip install pandas\n",
    "    p = f\"☑️ installation terminé\"\n",
    "    print(p)"
   ]
  },
  {
   "cell_type": "markdown",
   "metadata": {},
   "source": [
    "## 💽 MATPLOTLIB"
   ]
  },
  {
   "cell_type": "markdown",
   "metadata": {},
   "source": [
    "[🤖]()\n",
    "> <span style=\"color:#ddb;\">**matplotlib**</span>\n",
    "> est une bibliothèque de traçage de données populaire en Python. Elle permet de créer divers types de graphiques, tels que des graphiques à barres, des graphiques en nuage de points, des graphiques en boîte et des graphiques en courbes."
   ]
  },
  {
   "cell_type": "code",
   "execution_count": 12,
   "metadata": {},
   "outputs": [
    {
     "name": "stdout",
     "output_type": "stream",
     "text": [
      "✅ MATPLOTLIB INSTALLE\n",
      "✳️ matplotlib version 3.7.3\n",
      "⏏️\n"
     ]
    }
   ],
   "source": [
    "#! install matplotlib\n",
    "#! verifie si matplotlib est installé\n",
    "try:\n",
    "    # importation de matplotlib\n",
    "    import matplotlib as mp\n",
    "\n",
    "    # version de matplotlib\n",
    "    out = mp.__version__\n",
    "\n",
    "    # todo>> installé\n",
    "    p = f\"✅ MATPLOTLIB INSTALLE\"\n",
    "    print(p)\n",
    "    p = f\"✳️ matplotlib version {out}\"\n",
    "    print(p)\n",
    "\n",
    "    # end\n",
    "    p = f\"⏏️\"\n",
    "    print(p)\n",
    "\n",
    "except Exception as e:\n",
    "    # todo>> erreur\n",
    "    p = f\"📛 ERREUR\"\n",
    "    p = f\"{p} : {e}\"\n",
    "    print(p)\n",
    "    \n",
    "    # todo>> installation\n",
    "    p = f\"⚠️ INSTALLATION DE MATPLOTLIB\"\n",
    "    print(p)\n",
    "    ! pip install matplotlib\n",
    "    p = f\"☑️ installation terminé\"\n",
    "    print(p)\n"
   ]
  },
  {
   "cell_type": "markdown",
   "metadata": {},
   "source": [
    "## 💽 SEABORN"
   ]
  },
  {
   "cell_type": "markdown",
   "metadata": {},
   "source": [
    "[🤖]()\n",
    "> <span style=\"color:#ddb;\">**seaborn**</span>\n",
    "> est une bibliothèque de visualisation de données en Python. Seaborn est construit sur Matplotlib et offre une interface plus conviviale pour créer des graphiques statistiques attrayants."
   ]
  },
  {
   "cell_type": "code",
   "execution_count": 13,
   "metadata": {},
   "outputs": [
    {
     "name": "stdout",
     "output_type": "stream",
     "text": [
      "✅ SEABORN INSTALLE\n",
      "✳️ seaborn version 0.12.2\n",
      "⏏️\n"
     ]
    }
   ],
   "source": [
    "#! install seaborn\n",
    "#! verifie si seaborn est installé\n",
    "try:\n",
    "    # importation de seaborn\n",
    "    import seaborn as sns\n",
    "    \n",
    "    # version de seaborn\n",
    "    out = sns.__version__\n",
    "\n",
    "    # todo>> installé\n",
    "    p = f\"✅ SEABORN INSTALLE\"\n",
    "    print(p)\n",
    "    p = f\"✳️ seaborn version {out}\"\n",
    "    print(p)\n",
    "\n",
    "    # end\n",
    "    p = f\"⏏️\"\n",
    "    print(p)\n",
    "\n",
    "except Exception as e:\n",
    "    # todo>> erreur\n",
    "    p = f\"📛 ERREUR\"\n",
    "    p = f\"{p} : {e}\"\n",
    "    print(p)\n",
    "    \n",
    "    # todo>> installation \n",
    "    p = f\"⚠️ INSTALLATION DE SEABORN\"\n",
    "    print(p)\n",
    "    ! pip install seaborn\n",
    "    p = f\"☑️ installation terminé\"\n",
    "    print(p)"
   ]
  },
  {
   "cell_type": "markdown",
   "metadata": {},
   "source": [
    "## 💽 SCIKIT LEARN"
   ]
  },
  {
   "cell_type": "markdown",
   "metadata": {},
   "source": [
    "[🤖]()\n",
    "> <span style=\"color:#ddb;\">**scikit-learn**</span>\n",
    "> est une librairie Python pour la machine learning. Elle contient des outils et des classes pour la préparation, l'entrainement et la visualisation de modèles de machine learning. Elle sert à effectuer un large éventail de tâches liées à l'apprentissage automatique et à l'analyse de données."
   ]
  },
  {
   "cell_type": "code",
   "execution_count": 14,
   "metadata": {},
   "outputs": [
    {
     "name": "stdout",
     "output_type": "stream",
     "text": [
      "✅ SCIKIT-LEARN INSTALLE\n",
      "✳️ scikit-learn version 1.3.2\n",
      "⏏️\n"
     ]
    }
   ],
   "source": [
    "#! install scikit-learn\n",
    "#! verifie si scikit-learn est installé\n",
    "try:\n",
    "    # importation de sklearn\n",
    "    import sklearn as sk\n",
    "\n",
    "    # version de scikit-learn\n",
    "    out = sk.__version__\n",
    "\n",
    "    # todo>> installé\n",
    "    p = f\"✅ SCIKIT-LEARN INSTALLE\"\n",
    "    print(p)\n",
    "    p = f\"✳️ scikit-learn version {out}\"\n",
    "    print(p)\n",
    "\n",
    "    # end\n",
    "    p = f\"⏏️\"\n",
    "    print(p)\n",
    "\n",
    "except Exception as e:\n",
    "    # todo>> erreur\n",
    "    p = f\"📛 ERREUR\"\n",
    "    p = f\"{p} : {e}\"\n",
    "    print(p)\n",
    "    \n",
    "    # todo>> installation \n",
    "    p = f\"⚠️ INSTALLATION DE SCIKIT-LEARN\"\n",
    "    print(p)\n",
    "    ! pip install scikit-learn\n",
    "    p = f\"☑️ installation terminé\"\n",
    "    print(p)"
   ]
  },
  {
   "cell_type": "markdown",
   "metadata": {},
   "source": [
    "## 💽 REQUESTS"
   ]
  },
  {
   "cell_type": "markdown",
   "metadata": {},
   "source": [
    "[🤖]()\n",
    "> <span style=\"color:#ddb;\">**requests**</span>\n",
    "> est une bibliothèque Python populaire qui permet d'envoyer des requêtes HTTP vers des serveurs web et de traiter les réponses. Cette bibliothèque simplifie grandement l'interaction avec des ressources en ligne telles que des sites web, des API, etc. Elle est largement utilisée dans le développement web et le web scraping (l'extraction de données à partir de sites web)."
   ]
  },
  {
   "cell_type": "code",
   "execution_count": 15,
   "metadata": {},
   "outputs": [
    {
     "name": "stdout",
     "output_type": "stream",
     "text": [
      "✅ REQUESTS INSTALLE\n",
      "✳️ requests version 2.31.0\n",
      "⏏️\n"
     ]
    }
   ],
   "source": [
    "#! install requests\n",
    "#! verifie si requests est installé\n",
    "try:\n",
    "    # importation de requests\n",
    "    import requests\n",
    "\n",
    "    # version de requests\n",
    "    out = requests.__version__\n",
    "\n",
    "    # todo>> installé\n",
    "    p = f\"✅ REQUESTS INSTALLE\"\n",
    "    print(p)\n",
    "    p = f\"✳️ requests version {out}\"\n",
    "    print(p)\n",
    "\n",
    "    # end\n",
    "    p = f\"⏏️\"\n",
    "    print(p)\n",
    "\n",
    "except Exception as e:\n",
    "    # todo>> erreur\n",
    "    p = f\"📛 ERREUR\"\n",
    "    p = f\"{p} : {e}\"\n",
    "    print(p)\n",
    "    \n",
    "    # todo>> installation \n",
    "    p = f\"⚠️ INSTALLATION DE REQUESTS\"\n",
    "    print(p)\n",
    "    ! pip install requests\n",
    "    p = f\"☑️ installation terminé\"\n",
    "    print(p)"
   ]
  },
  {
   "cell_type": "markdown",
   "metadata": {},
   "source": [
    "## 💽 BEAUTIFULSOUP4"
   ]
  },
  {
   "cell_type": "markdown",
   "metadata": {},
   "source": [
    "[🤖]()\n",
    "> <span style=\"color:#ddb;\">**beautifulsoup4**</span>\n",
    "> est une librairie Python pour l'analyse de données HTML et XML. Elle permet de parser des documents HTML et XML et d'extraire des données sous forme de dictionnaires ou de listes."
   ]
  },
  {
   "cell_type": "code",
   "execution_count": 16,
   "metadata": {},
   "outputs": [
    {
     "name": "stdout",
     "output_type": "stream",
     "text": [
      "✅ BEAUTIFULSOUP4 INSTALLE\n",
      "✳️ beautifulsoup4 version 4.12.2\n",
      "⏏️\n"
     ]
    }
   ],
   "source": [
    "#! install beautifulsoup4\n",
    "#! verifie si beautifulsoup4 est installé\n",
    "try:\n",
    "    # importation de beautifulsoup4 : bs4\n",
    "    import bs4\n",
    "\n",
    "    # version de beautifulsoup4\n",
    "    out = bs4.__version__\n",
    "\n",
    "    # todo>> installé\n",
    "    p = f\"✅ BEAUTIFULSOUP4 INSTALLE\"\n",
    "    print(p)\n",
    "    p = f\"✳️ beautifulsoup4 version {out}\"\n",
    "    print(p)\n",
    "\n",
    "    # end\n",
    "    p = f\"⏏️\"\n",
    "    print(p)\n",
    "\n",
    "except Exception as e:\n",
    "    # todo>> erreur\n",
    "    p = f\"📛 ERREUR\"\n",
    "    p = f\"{p} : {e}\"\n",
    "    print(p)\n",
    "    \n",
    "    # todo>> installation\n",
    "    p = f\"⚠️ INSTALLATION DE BEAUTIFULSOUP4\"\n",
    "    print(p)\n",
    "    ! pip install beautifulsoup4\n",
    "    p = f\"☑️ installation terminé\"\n",
    "    print(p)"
   ]
  },
  {
   "cell_type": "markdown",
   "metadata": {},
   "source": [
    "## 🗃️ NODE JS"
   ]
  },
  {
   "cell_type": "markdown",
   "metadata": {},
   "source": [
    "[🤖]()\n",
    "><span style=\"color:#ddb;\">**nodejs**</span>\n",
    "> est un environnement d'exécution JavaScript côté serveur, basé sur le moteur JavaScript V8 de Google. Il permet d'exécuter du code JavaScript en dehors d'un navigateur web, ce qui signifie que vous pouvez utiliser JavaScript pour développer des applications serveur, des applications en ligne de commande, des outils en ligne de commande, des scripts automatisés, et bien plus encore."
   ]
  },
  {
   "cell_type": "code",
   "execution_count": 17,
   "metadata": {},
   "outputs": [
    {
     "name": "stdout",
     "output_type": "stream",
     "text": [
      "✅ NODEJS INSTALLE\n",
      "✳️ nodejs version v18.17.1\n",
      "⏏️\n"
     ]
    }
   ],
   "source": [
    "#! install nodejs\n",
    "#! verifie si nodejs est installé\n",
    "try:\n",
    "    # version de nodejs\n",
    "    result = subprocess.check_output(\"node -v\", shell=True)\n",
    "    out = get_ipython().getoutput(\"node -v\")\n",
    "    \n",
    "    # todo>> installé\n",
    "    p = f\"✅ NODEJS INSTALLE\"\n",
    "    print(p)\n",
    "    p = f\"✳️ nodejs version {out[0]}\"\n",
    "    print(p)\n",
    "\n",
    "    # end\n",
    "    p = f\"⏏️\"\n",
    "    print(p)\n",
    "\n",
    "except Exception as e:\n",
    "    # todo>> erreur\n",
    "    p = f\"📛 ERREUR\"\n",
    "    p = f\"{p} : {e}\"\n",
    "    print(p)\n",
    "    \n",
    "    # todo>> installation\n",
    "    p = f\"⚠️ INSTALLATION DE NODEJS REQUIS\"\n",
    "    print(p)\n",
    "    p = f\"Veuillez installer nodejs et npm via ce lien : https://nodejs.org/\"\n",
    "    print(p)"
   ]
  },
  {
   "cell_type": "markdown",
   "metadata": {},
   "source": [
    "## 🗃️ NPM"
   ]
  },
  {
   "cell_type": "markdown",
   "metadata": {},
   "source": [
    "[🤖]()\n",
    "> <span style=\"color:#ddb;\">**NPM (Node Package Manager)**</span>\n",
    "> est le gestionnaire de paquets officiel de Node.js. Il s'agit d'une puissante plateforme de gestion des dépendances qui permet aux développeurs de JavaScript (et de Node.js en particulier) de gérer les bibliothèques et les modules tiers dont leurs projets ont besoin"
   ]
  },
  {
   "cell_type": "code",
   "execution_count": 20,
   "metadata": {},
   "outputs": [
    {
     "name": "stdout",
     "output_type": "stream",
     "text": [
      "✅ NPM INSTALLE\n",
      "✳️ npm version 9.6.7\n",
      "⏏️\n"
     ]
    }
   ],
   "source": [
    "#! install npm\n",
    "#! verifie si npm est installé\n",
    "try:\n",
    "    # version de npm    \n",
    "    result = subprocess.check_output(\"npm -v\", shell=True)\n",
    "    out = get_ipython().getoutput(\"npm -v\")\n",
    "\n",
    "    # todo>> installé\n",
    "    p = f\"✅ NPM INSTALLE\"\n",
    "    print(p)\n",
    "    p = f\"✳️ npm version {out[0]}\"\n",
    "    print(p)\n",
    "\n",
    "    # end\n",
    "    p = f\"⏏️\"\n",
    "    print(p)\n",
    "\n",
    "except Exception as e:\n",
    "    # todo>> erreur\n",
    "    p = f\"📛 ERREUR\"\n",
    "    p = f\"{p} : {e}\"\n",
    "    print(p)\n",
    "    \n",
    "    # todo>> installation\n",
    "    p = f\"⚠️ INSTALLATION DE NPM REQUIS\"\n",
    "    print(p)\n",
    "    p = f\"Veuillez installer nodejs et npm via ce lien : https://nodejs.org/\"\n",
    "    print(p)"
   ]
  },
  {
   "cell_type": "markdown",
   "metadata": {},
   "source": [
    "## 🗃️ REACT"
   ]
  },
  {
   "cell_type": "markdown",
   "metadata": {},
   "source": [
    "[🤖]()\n",
    "> <span style=\"color:#ddb;\">**react**</span>\n",
    "> est une bibliothèque JavaScript open-source créée par Facebook. Elle est principalement utilisée pour la création d'interfaces utilisateur interactives et dynamiques pour les applications web. React est souvent utilisé pour la construction de Single Page Applications (SPA) et est l'une des bibliothèques les plus populaires pour le développement d'applications front-end."
   ]
  },
  {
   "cell_type": "code",
   "execution_count": 22,
   "metadata": {},
   "outputs": [
    {
     "name": "stdout",
     "output_type": "stream",
     "text": [
      "✅ REACT INSTALLE\n",
      "✳️ version de react : 18.2.0\n",
      "⏏️\n"
     ]
    }
   ],
   "source": [
    "#! react\n",
    "#! verifie si react est installé\n",
    "try:\n",
    "    # version de react\n",
    "    result = subprocess.check_output(\"npm show react version\", shell=True)\n",
    "    out = result.decode(\"utf-8\").strip()\n",
    "    \n",
    "    # todo>> installé\n",
    "    p = \"✅ REACT INSTALLE\"\n",
    "    print(p)\n",
    "    p = f\"✳️ version de react : {out}\"\n",
    "    print(p)\n",
    "\n",
    "    # end\n",
    "    p = f\"⏏️\"\n",
    "    print(p)\n",
    "\n",
    "except Exception as e:\n",
    "    # todo>> erreur\n",
    "    p = f\"📛 ERREUR\"\n",
    "    p = f\"{p} : {e}\"\n",
    "    print(p)\n",
    "    \n",
    "    # todo>> installation\n",
    "    p = f\"⚠️ INSTALLATION DE REACT REQUIS\"\n",
    "    print(p)\n",
    "    p = f\"veuillez installer react\\n\\npour installer react:\\nassurez-vous d'avoir Node.js installé sur votre système\\nreact dépend de Node.js pour fonctionner.\\n\\ninstallez 'create React App' globalement en utilisant npm.\\n⏩ npm install -g create-react-app\\n⏩ npx create-react-app mon-app-react\\n\\nl'application react va s'installer automatiquement dans le dossier 'mon-app-react'\"\n",
    "    print(p)"
   ]
  }
 ],
 "metadata": {
  "kernelspec": {
   "display_name": "Python 3",
   "language": "python",
   "name": "python3"
  },
  "language_info": {
   "codemirror_mode": {
    "name": "ipython",
    "version": 3
   },
   "file_extension": ".py",
   "mimetype": "text/x-python",
   "name": "python",
   "nbconvert_exporter": "python",
   "pygments_lexer": "ipython3",
   "version": "3.11.4"
  },
  "orig_nbformat": 4
 },
 "nbformat": 4,
 "nbformat_minor": 2
}
